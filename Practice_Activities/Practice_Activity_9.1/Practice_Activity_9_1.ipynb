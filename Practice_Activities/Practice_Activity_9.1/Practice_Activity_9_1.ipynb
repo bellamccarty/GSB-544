{
 "nbformat": 4,
 "nbformat_minor": 0,
 "metadata": {
  "colab": {
   "provenance": []
  },
  "kernelspec": {
   "name": "python3",
   "display_name": "Python 3"
  },
  "language_info": {
   "name": "python"
  }
 },
 "cells": [
  {
   "metadata": {},
   "cell_type": "raw",
   "source": [
    "---\n",
    "title: 'Practice Activity 9.1: Decision Boundaries'\n",
    "author: 'Isabella McCarty'\n",
    "embed-resources: true\n",
    "format: \n",
    "    html:\n",
    "        code-fold: true\n",
    "        theme: minty\n",
    "---"
   ]
  },
  {
   "metadata": {},
   "cell_type": "code",
   "outputs": [],
   "execution_count": null,
   "source": ""
  },
  {
   "cell_type": "markdown",
   "source": [
    "## The Data\n",
    "\n",
    "At this link, you will find a dataset containing information about heart disease patients: https://www.dropbox.com/scl/fi/0vrpdnq5asmeulc4gd50y/ha_1.csv?rlkey=ciisalceotl77ffqhqe3kujzv&dl=1\n",
    "\n",
    "A description of the original dataset can be found here: https://archive.ics.uci.edu/dataset/45/heart+disease (However, this dataset has been cleaned and reduced, and the people have been given fictious names.)"
   ],
   "metadata": {
    "id": "F9uql3um69hP"
   }
  },
  {
   "cell_type": "markdown",
   "source": [
    "## 1. Logistic Regression\n",
    "\n",
    "Fit a Logistic Regression using only `age` and `chol` (cholesterol) as predictors.\n",
    "\n",
    "For a 55 year old, how high would their cholesterol need to be for the doctors to predict heart disease is present?\n",
    "\n",
    "How high for the doctors to estimate a 90% chance that heart disease is present?"
   ],
   "metadata": {
    "id": "O6wa9AzG7xHW"
   }
  },
  {
   "cell_type": "code",
   "execution_count": null,
   "metadata": {
    "id": "jc13Bmcr6Rzz"
   },
   "outputs": [],
   "source": []
  },
  {
   "cell_type": "markdown",
   "source": [
    "## 2. Linear Discriminant Analysis\n",
    "\n",
    "Fit an LDA model using only `age` and `chol` (cholesterol)  as predictors.\n",
    "\n",
    "For a 55 year old, how high would their cholesterol need to be for the doctors to predict heart disease is present?"
   ],
   "metadata": {
    "id": "t6Gfcspn9EYy"
   }
  },
  {
   "cell_type": "code",
   "source": [],
   "metadata": {
    "id": "xEE5FPAs9S29"
   },
   "execution_count": null,
   "outputs": []
  },
  {
   "cell_type": "markdown",
   "source": [
    "## 3. Support Vector Classifier\n",
    "\n",
    "Fit an SVC model using only `age` and `chol` as predictors.  Don't forget to tune the regularization parameter.\n",
    "\n",
    "For a 55 year old, how high would their cholesterol need to be for the doctors to predict heart disease is present?"
   ],
   "metadata": {
    "id": "RdRR4Evq9THQ"
   }
  },
  {
   "cell_type": "code",
   "source": [],
   "metadata": {
    "id": "QM0zJ8JN9XS9"
   },
   "execution_count": null,
   "outputs": []
  },
  {
   "cell_type": "markdown",
   "source": [
    "## 4. Comparing Decision Boundaries\n",
    "\n",
    "Make a scatterplot of `age` and `chol`, coloring the points by their true disease outcome.  Add a line to the plot representing the **linear separator** (aka **decision boundary**) for each of the three models above."
   ],
   "metadata": {
    "id": "badaMBzw-MsM"
   }
  },
  {
   "cell_type": "code",
   "source": [],
   "metadata": {
    "id": "vVZJwn9s-enf"
   },
   "execution_count": null,
   "outputs": []
  }
 ]
}
