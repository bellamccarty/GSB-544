{
 "cells": [
  {
   "cell_type": "raw",
   "metadata": {
    "id": "Wm7rfPnRrrqm"
   },
   "source": [
    "---\n",
    "title: 'Practice Activity: Basic Syntax'\n",
    "author: 'Isabella McCarty'\n",
    "output: html\n",
    "---"
   ]
  },
  {
   "cell_type": "markdown",
   "metadata": {
    "id": "0mbR_4URrrqo"
   },
   "source": [
    "## Overview\n",
    "\n",
    "In this PA, you will will be creating and manipulating basic objects to uncover a top secret message.\n",
    "\n",
    "### Hint 1\n",
    "\n",
    "As you work through this PA, you will encounter some code that does not work as you want it to.  Don't despair!  Errors (when R is unable to run your code) and bugs (when the code doesn't do what you hoped) are a natural part of coding.  Even the best of the best deal with these problems regularly - learning to track down the issue is a skill that you can learn and practice.\n",
    "\n",
    "Google is your friend!  If an error is confusing, copy it into Google and see what other people are saying.  If you don't know how to do something, search for it.\n",
    "\n",
    "### Hint 2\n",
    "\n",
    "Just because there is no error message doesn't mean everything went smoothly.  You should be regularly printing out your objects, to see they contain the information and format that you expect.\n",
    "\n",
    "For example, if you have an object named `my_thing`, you might first want to simply look at the object by typing its name.\n",
    "\n",
    "However, you might also want to make sure it is the right **object type** and/or the right **object structure**.\n"
   ]
  },
  {
   "cell_type": "code",
   "metadata": {
    "id": "D5pSzgxjrrqq",
    "ExecuteTime": {
     "end_time": "2024-09-25T07:29:37.520164Z",
     "start_time": "2024-09-25T07:29:37.516175Z"
    }
   },
   "source": [
    "# type(my_thing)\n",
    "# len(my_thing)"
   ],
   "outputs": [],
   "execution_count": 295
  },
  {
   "cell_type": "markdown",
   "metadata": {
    "id": "QpUJsmq0rrqr"
   },
   "source": [
    "## Part One: Setup\n",
    "\n",
    "Each of the following code chunks will cause an error and/or do the desired task incorrectly.  Find the mistake, and correct it to complete the intended action.\n",
    "\n",
    "\n",
    "\n",
    "\n",
    "1. Create lists containing the upper case letters, lower case letters, and some punctuation marks.\n"
   ]
  },
  {
   "cell_type": "code",
   "metadata": {
    "id": "tk5bezBJrrqs",
    "outputId": "4ed6b62e-bd9b-41a0-831e-efc52b595226",
    "colab": {
     "base_uri": "https://localhost:8080/",
     "height": 143
    },
    "ExecuteTime": {
     "end_time": "2024-09-25T07:29:37.555399Z",
     "start_time": "2024-09-25T07:29:37.545556Z"
    }
   },
   "source": [
    "lower_case = [\"a\", \"b\", \"c\", \"d\", \"e\", \"f\", \"g\", \"h\", \"i\", \"j\", \"k\", \"l\", \"m\", \"n\", \"o\", \"p\", \"q\", \"r\", \"s\", \"t\", \"u\", \"v\", \"w\", \"x\", \"y\", \"z\"]\n",
    "\n",
    "upper_case = [\"A\", \"B\", \"C\", \"D\", \"E\", \"F\", \"G\", \"H\" \"I\", \"J\", \"K\", \"L\", \"M\", \"N\", \"O\", \"P\", \"Q\", \"R\", \"S\", \"T\", \"U\", \"V\", \"W\", \"X\", \"Y\", \"Z\"]\n",
    "\n",
    "punctuation = [\".\", \",\", \"!\", \"?\", \"'\", '\"', \"(\", \")\", \" \", \"-\", \";\", \":\"]"
   ],
   "outputs": [],
   "execution_count": 296
  },
  {
   "cell_type": "markdown",
   "metadata": {
    "id": "ZejwK6urrrqs"
   },
   "source": [
    "2. Make one long list containing all the symbols.  Find the length of this list.\n"
   ]
  },
  {
   "cell_type": "code",
   "metadata": {
    "id": "l8ZVLLXWrrqs",
    "ExecuteTime": {
     "end_time": "2024-09-25T07:29:37.599982Z",
     "start_time": "2024-09-25T07:29:37.592597Z"
    }
   },
   "source": [
    "all_symbols = [lower_case, upper_case, punctuation]\n",
    "\n",
    "len(all_symbols)"
   ],
   "outputs": [
    {
     "data": {
      "text/plain": [
       "3"
      ]
     },
     "execution_count": 297,
     "metadata": {},
     "output_type": "execute_result"
    }
   ],
   "execution_count": 297
  },
  {
   "cell_type": "markdown",
   "metadata": {
    "id": "HvgV76Dbrrqt"
   },
   "source": [
    "3. Repeat the previous steps, but instead of using *list* type objects, use **numpy arrays**.  Don't forget to **import** the numpy library!\n"
   ]
  },
  {
   "cell_type": "code",
   "metadata": {
    "id": "x9YyIMP6rrqt",
    "ExecuteTime": {
     "end_time": "2024-09-25T07:29:37.635143Z",
     "start_time": "2024-09-25T07:29:37.629443Z"
    }
   },
   "source": [
    "import numpy as np\n",
    "\n",
    "lower_case = np.array([\"a\", \"b\", \"c\", \"d\", \"e\", \"f\", \"g\", \"h\", \"i\", \"j\", \"k\", \"l\", \"m\", \"n\", \"o\", \"p\", \"q\", \"r\", \"s\", \"t\", \"u\", \"v\", \"w\", \"x\", \"y\", \"z\"])\n",
    "\n",
    "upper_case = np.array([\"A\", \"B\", \"C\", \"D\", \"E\", \"F\", \"G\", \"H\", \"I\", \"J\", \"K\", \"L\", \"M\", \"N\", \"O\", \"P\", \"Q\", \"R\", \"S\", \"T\", \"U\", \"V\", \"W\", \"X\", \"Y\", \"Z\"])\n",
    "\n",
    "punctuation = np.array([\".\", \",\", \"!\", \"?\", \"'\", \"\\\"\", \"(\", \")\", \" \", \"-\", \";\", \":\"])\n",
    "\n",
    "## Use np.concatenate to combine into long array\n",
    "all_symbols = np.concatenate((lower_case, upper_case, punctuation))"
   ],
   "outputs": [],
   "execution_count": 298
  },
  {
   "cell_type": "markdown",
   "metadata": {
    "id": "rpbAtPlXrrqt"
   },
   "source": [
    "4. Make a **pandas data frame**, with one column called \"Symbol\" containing the `all_symbols` array.\n"
   ]
  },
  {
   "cell_type": "code",
   "metadata": {
    "id": "K103ZvNVrrqu",
    "ExecuteTime": {
     "end_time": "2024-09-25T07:29:37.663358Z",
     "start_time": "2024-09-25T07:29:37.658474Z"
    }
   },
   "source": [
    "import pandas as pd\n",
    "\n",
    "symbols_df = pd.DataFrame(all_symbols)\n",
    "\n",
    "symbols_df.rename(columns = {\"0\": \"Symbol\"}, inplace = True)"
   ],
   "outputs": [],
   "execution_count": 299
  },
  {
   "cell_type": "markdown",
   "metadata": {
    "id": "L-m2LLyHrrqu"
   },
   "source": [
    "## Part Two: Decoding the secret message.\n"
   ]
  },
  {
   "cell_type": "code",
   "metadata": {
    "id": "iP7Zj5hPrrqu",
    "ExecuteTime": {
     "end_time": "2024-09-25T07:29:39.225469Z",
     "start_time": "2024-09-25T07:29:37.686299Z"
    }
   },
   "source": [
    "top_secret = pd.read_csv(\"https://www.dropbox.com/s/k72h1zewk4gtqep/PA_Secret_Code?dl=1\", header=None)\n",
    "\n",
    "top_secret = top_secret[0].to_numpy()"
   ],
   "outputs": [],
   "execution_count": 300
  },
  {
   "cell_type": "markdown",
   "metadata": {},
   "source": [
    "### Hint\n",
    "\n",
    "Recall that basic math operations are **vectorized**.  This means you don't have to repeat the process for each item in a list; you can apply the math to the whole thing at once.\n",
    "\n",
    "### Instructions\n",
    "\n",
    "By altering this top secret set of numbers, you will be able to create a message.  Write your own code to complete the steps below.\n",
    "\n",
    "1. Add 14 to every number.\n",
    "2. Multiply every number by 18, then subtract 257.\n",
    "3. Exponentiate every number.  (That is, do e^[number].  You may have to Google how to do this!)\n",
    "4. Square every number."
   ]
  },
  {
   "metadata": {
    "ExecuteTime": {
     "end_time": "2024-09-25T07:29:39.256701Z",
     "start_time": "2024-09-25T07:29:39.251512Z"
    }
   },
   "cell_type": "code",
   "source": [
    "# Add 14 to every number\n",
    "top_secret += 14\n",
    "\n",
    "# Multiply every number by 18, then subtract 257\n",
    "top_secret *= 18\n",
    "top_secret -= 257\n",
    "\n",
    "# Exponentiate every number (e^x)\n",
    "top_secret = np.exp(top_secret)\n",
    "\n",
    "# Square every number\n",
    "top_secret = np.square(top_secret)"
   ],
   "outputs": [],
   "execution_count": 301
  },
  {
   "metadata": {},
   "cell_type": "markdown",
   "source": [
    "\n",
    "**Checkpoint:** Headquarters has informed you that at this stage of decoding, there should be 352 numbers in the secret message that are below 17.  Write code to check if this is true for your data."
   ]
  },
  {
   "metadata": {
    "ExecuteTime": {
     "end_time": "2024-09-25T07:29:39.288300Z",
     "start_time": "2024-09-25T07:29:39.279856Z"
    }
   },
   "cell_type": "code",
   "source": [
    "nums_below_17 = np.sum(top_secret < 17)\n",
    "print(nums_below_17)"
   ],
   "outputs": [
    {
     "name": "stdout",
     "output_type": "stream",
     "text": [
      "352\n"
     ]
    }
   ],
   "execution_count": 302
  },
  {
   "metadata": {},
   "cell_type": "markdown",
   "source": [
    "\n",
    "\n",
    "5. Turn your one-dimensional array of numbers into a two-dimensional array (matrix) with 5 columns.\n",
    "6. Separately from your top secret numbers, create an array of all the even numbers between 1 and 382. Name it \"evens\". That is, \"evens\" should contain 2, 4, 6, 8 ..., 382.\n",
    "7. Subtract the \"evens\" vector from the first column of your secret message matrix.\n",
    "8. Subtract 100 from all numbers in the 18-24th rows of the 3rd column.\n",
    "9. Multiply all numbers in the 4th and 5th column by 2.\n",
    "10. Turn your matrix back into a one dimensional array."
   ]
  },
  {
   "metadata": {
    "ExecuteTime": {
     "end_time": "2024-09-25T07:29:39.321802Z",
     "start_time": "2024-09-25T07:29:39.316765Z"
    }
   },
   "cell_type": "code",
   "source": [
    "# Reshape the array into a matrix with 5 columns\n",
    "top_secret_matrix = np.matrix(top_secret.reshape(-1,5))\n",
    "\n",
    "# Create an array of even numbers between 1 and 382\n",
    "evens = np.arange(2, 383, 2)\n",
    "\n",
    "# Subtract the \"evens\" vector from the first column\n",
    "top_secret_matrix[:, 0] -= evens.reshape(-1, 1)\n",
    "\n",
    "# Subtract 100 from all numbers in the 18-24th rows of the 3rd column\n",
    "top_secret_matrix[17:24, 2] -= 100  # Subtract 100 (indexing starts at 0)\n",
    "\n",
    "# Step 9: Multiply all numbers in the 4th and 5th columns by 2\n",
    "top_secret_matrix[:, 3:5] *= 2  # Multiply the 4th column by 2\n",
    "\n",
    "# Step 10: Turn the matrix back into a one-dimensional array\n",
    "top_secret = top_secret_matrix.flatten()"
   ],
   "outputs": [],
   "execution_count": 303
  },
  {
   "metadata": {},
   "cell_type": "markdown",
   "source": "**Checkpoint:** Headquarters has informed you that at this stage of decoding, all numbers in indices 500 and beyond are below 100.  Write code to check if your numbers fulfill this requirement."
  },
  {
   "metadata": {
    "ExecuteTime": {
     "end_time": "2024-09-25T07:29:39.356392Z",
     "start_time": "2024-09-25T07:29:39.350094Z"
    }
   },
   "cell_type": "code",
   "source": [
    "above_100_count = np.sum(top_secret[500:] > 99)\n",
    "print(above_100_count)"
   ],
   "outputs": [
    {
     "name": "stdout",
     "output_type": "stream",
     "text": [
      "0\n"
     ]
    }
   ],
   "execution_count": 304
  },
  {
   "metadata": {},
   "cell_type": "markdown",
   "source": [
    "\n",
    "\n",
    "11. Take the square root of all numbers in indices 37 to 464.\n",
    "12. Round all numbers to the nearest whole number.\n",
    "13. Replace all instances of the number 39 with 20."
   ]
  },
  {
   "metadata": {
    "ExecuteTime": {
     "end_time": "2024-09-25T07:29:39.396029Z",
     "start_time": "2024-09-25T07:29:39.389226Z"
    }
   },
   "cell_type": "code",
   "source": [
    "# Take the square root of all numbers in indices 37 to 464\n",
    "top_secret[37:465] = np.sqrt(top_secret[37:465])\n",
    "\n",
    "# Round all numbers to the nearest whole number\n",
    "top_secret = np.round(top_secret)\n",
    "\n",
    "# Step 11: Replace all instances of the number 39 with 20\n",
    "top_secret[top_secret == 39] = 20"
   ],
   "outputs": [],
   "execution_count": 305
  },
  {
   "metadata": {
    "ExecuteTime": {
     "end_time": "2024-09-25T07:30:41.349029Z",
     "start_time": "2024-09-25T07:30:41.333489Z"
    }
   },
   "cell_type": "code",
   "source": "top_secret.flatten()",
   "outputs": [
    {
     "data": {
      "text/plain": [
       "matrix([[ 5.700e+01,  5.000e+01,  2.900e+01,  1.800e+01,  5.800e+01,\n",
       "          6.900e+01,  1.600e+01,  3.400e+01,  5.400e+01,  6.400e+01,\n",
       "          2.800e+01,  3.300e+01,  3.300e+01,  1.640e+02,  1.820e+02,\n",
       "          2.500e+01,  4.800e+01,  4.000e+01,  1.980e+02,  1.580e+02,\n",
       "          4.000e+01,  4.900e+01,  1.070e+02,  1.340e+02,  1.240e+02,\n",
       "          4.900e+01,  9.300e+01,  6.400e+01,  1.660e+02,  2.420e+02,\n",
       "          8.700e+01,  7.900e+01,  8.800e+01,  1.460e+02,  1.780e+02,\n",
       "          1.170e+02,  1.350e+02,  3.797e+03,  1.956e+03,  3.220e+02,\n",
       "          8.000e+01,  3.805e+03,  1.350e+02,  1.426e+03,  8.280e+02,\n",
       "          9.700e+01,  3.815e+03,  9.700e+01,  5.880e+02,  2.320e+02,\n",
       "          3.801e+03,  1.530e+02,  1.870e+02,  5.540e+02,  2.280e+02,\n",
       "          2.320e+02,  1.390e+02,  3.837e+03,  3.980e+02,  6.320e+02,\n",
       "          3.817e+03,  1.645e+03,  1.900e+02,  3.060e+02,  7.702e+03,\n",
       "          6.330e+02,  1.350e+02,  1.400e+02,  3.260e+02,  8.472e+03,\n",
       "          3.833e+03,  8.730e+02,  2.900e+02,  5.840e+02,  7.742e+03,\n",
       "          2.890e+02,  2.350e+02,  3.250e+02,  1.038e+03,  1.570e+03,\n",
       "          3.849e+03,  6.930e+02,  1.910e+02,  9.840e+02,  3.900e+02,\n",
       "          3.857e+03,  1.695e+03,  1.400e+02,  4.060e+02,  7.802e+03,\n",
       "          1.480e+02,  4.090e+02,  4.100e+02,  8.260e+02,  4.780e+02,\n",
       "          3.770e+02,  6.780e+02,  1.210e+02,  1.118e+03,  6.232e+03,\n",
       "          3.881e+03,  3.925e+03,  3.827e+03,  1.874e+03,  8.120e+02,\n",
       "          1.840e+02,  3.935e+03,  1.637e+03,  5.640e+02,  4.900e+02,\n",
       "          3.897e+03,  3.930e+02,  3.510e+02,  7.940e+02,  5.100e+02,\n",
       "          3.905e+03,  5.580e+02,  1.370e+02,  3.518e+03,  6.080e+02,\n",
       "          5.530e+02,  3.965e+03,  4.710e+02,  1.378e+03,  3.542e+03,\n",
       "          2.490e+02,  5.780e+02,  2.570e+02,  5.240e+02,  5.700e+02,\n",
       "          3.017e+03,  3.985e+03,  3.630e+03,  2.104e+03,  5.900e+02,\n",
       "          7.450e+02,  2.750e+02,  6.000e+02,  6.060e+02,  8.002e+03,\n",
       "          1.745e+03,  3.480e+02,  3.110e+02,  8.018e+03,  3.172e+03,\n",
       "          2.330e+02,  2.980e+02,  3.000e+02,  6.460e+02,  1.248e+03,\n",
       "          7.690e+02,  5.290e+02,  3.150e+02,  8.580e+02,  6.452e+03,\n",
       "          3.969e+03,  4.830e+02,  9.410e+02,  8.078e+03,  1.362e+03,\n",
       "          4.810e+02,  5.200e+02,  3.351e+03,  8.098e+03,  8.102e+03,\n",
       "          3.985e+03,  2.450e+03,  4.000e+02,  7.260e+02,  8.122e+03,\n",
       "          3.720e+02,  3.450e+02,  8.750e+02,  1.418e+03,  8.142e+03,\n",
       "          1.801e+03,  4.180e+02,  3.570e+02,  3.758e+03,  8.162e+03,\n",
       "          2.920e+02,  4.450e+02,  1.887e+03,  7.860e+02,  6.572e+03,\n",
       "          4.017e+03,  1.895e+03,  4.400e+02,  8.060e+02,  8.202e+03,\n",
       "          3.130e+02,  1.440e+02,  1.000e+00,  1.058e+03,  7.220e+02,\n",
       "          3.641e+03,  1.521e+03,  6.400e+01,  2.000e+00,  3.042e+03,\n",
       "          3.639e+03,  9.000e+00,  1.000e+00,  3.042e+03,  1.800e+01,\n",
       "         -2.000e+01,  3.025e+03,  3.721e+03,  1.568e+03,  5.000e+01,\n",
       "          4.430e+02,  1.000e+00,  3.240e+02,  5.000e+01,  7.442e+03,\n",
       "          1.433e+03,  6.400e+01,  2.500e+01,  7.442e+03,  2.592e+03,\n",
       "          3.510e+02,  4.000e+00,  1.000e+02,  8.820e+02,  8.000e+00,\n",
       "          3.629e+03,  4.000e+00,  8.100e+01,  6.480e+02,  3.200e+01,\n",
       "          2.822e+03,  3.721e+03,  1.000e+00,  3.920e+02,  3.200e+01,\n",
       "          3.625e+03,  3.610e+02,  6.400e+01,  8.820e+02,  3.920e+02,\n",
       "          3.623e+03,  3.721e+03,  3.721e+03,  4.232e+03,  1.280e+02,\n",
       "         -7.500e+01,  3.721e+03,  3.600e+01,  6.480e+02,  8.820e+02,\n",
       "          6.700e+01,  8.100e+01,  2.250e+02,  8.820e+02,  7.220e+02,\n",
       "          3.617e+03,  7.840e+02,  1.000e+00,  3.920e+02,  3.200e+01,\n",
       "         -8.100e+01,  3.240e+02,  3.610e+02,  3.920e+02,  2.000e+00,\n",
       "          1.413e+03,  9.000e+00,  6.400e+01,  6.050e+03,  6.728e+03,\n",
       "          3.611e+03,  1.156e+03,  2.500e+01,  7.442e+03,  3.042e+03,\n",
       "          1.130e+02,  2.250e+02,  1.210e+02,  7.442e+03,  1.280e+02,\n",
       "         -3.300e+01,  3.610e+02,  3.721e+03,  9.680e+02,  4.500e+02,\n",
       "          2.080e+02,  2.560e+02,  1.000e+00,  2.880e+02,  7.442e+03,\n",
       "          2.430e+02,  5.290e+02,  2.250e+02,  6.480e+02,  3.200e+01,\n",
       "          3.601e+03,  8.100e+01,  1.960e+02,  7.442e+03,  1.280e+02,\n",
       "         -1.210e+02,  1.960e+02,  1.600e+01,  7.938e+03,  7.442e+03,\n",
       "          3.597e+03,  3.721e+03,  1.444e+03,  4.500e+02,  3.920e+02,\n",
       "         -7.700e+01,  3.721e+03,  1.521e+03,  1.620e+02,  3.380e+02,\n",
       "         -1.030e+02,  3.721e+03,  1.521e+03,  1.280e+02,  5.000e+01,\n",
       "          3.591e+03,  1.690e+02,  1.000e+00,  3.920e+02,  1.152e+03,\n",
       "          9.300e+01,  1.690e+02,  2.500e+01,  7.442e+03,  7.200e+01,\n",
       "          9.100e+01,  2.500e+01,  3.721e+03,  1.280e+02,  5.000e+01,\n",
       "          3.585e+03,  3.610e+02,  2.250e+02,  8.820e+02,  9.800e+01,\n",
       "         -7.400e+01,  1.521e+03,  3.844e+03,  7.442e+03,  4.050e+03,\n",
       "          8.500e+01,  3.721e+03,  3.240e+02,  5.000e+01,  7.220e+02,\n",
       "          1.379e+03,  2.500e+01,  1.600e+01,  7.442e+03,  1.280e+02,\n",
       "         -1.190e+02,  3.721e+03,  4.000e+00,  1.250e+03,  7.442e+03,\n",
       "          1.375e+03,  6.400e+01,  2.500e+01,  7.442e+03,  4.232e+03,\n",
       "          2.930e+02,  1.690e+02,  1.521e+03,  8.820e+02,  3.380e+02,\n",
       "          3.571e+03,  1.521e+03,  3.240e+02,  5.000e+01,  5.000e+01,\n",
       "          3.569e+03,  3.721e+03,  3.721e+03,  1.458e+03,  3.920e+02,\n",
       "         -1.380e+02,  3.721e+03,  3.610e+02,  3.042e+03,  4.500e+02,\n",
       "          6.900e+01,  1.600e+01,  3.721e+03,  2.000e+00,  1.058e+03,\n",
       "         -9.400e+01,  8.100e+01,  1.440e+02,  5.000e+01,  7.442e+03,\n",
       "         -7.900e+01,  1.960e+02,  3.721e+03,  3.042e+03,  3.280e+02,\n",
       "          1.630e+02,  5.410e+02,  1.490e+02,  3.280e+02,  3.242e+03,\n",
       "          2.745e+03,  3.721e+03,  7.290e+02,  3.920e+02,  3.200e+01,\n",
       "          2.750e+03,  3.721e+03,  1.000e+00,  7.220e+02,  7.442e+03,\n",
       "         -8.700e+01,  1.960e+02,  3.721e+03,  8.820e+02,  7.200e+01,\n",
       "         -1.340e+02,  8.100e+01,  3.610e+02,  1.280e+02,  7.442e+03,\n",
       "          1.349e+03,  6.400e+01,  2.250e+02,  8.820e+02,  9.800e+01,\n",
       "         -1.100e+02,  1.521e+03,  3.721e+03,  1.280e+02,  5.000e+01,\n",
       "          3.545e+03,  3.610e+02,  1.521e+03,  4.500e+02,  4.500e+02,\n",
       "         -1.620e+02,  2.916e+03,  3.721e+03,  7.442e+03,  7.442e+03,\n",
       "          1.936e+03,  6.400e+01,  2.500e+01,  7.442e+03,  2.592e+03,\n",
       "         -1.810e+02,  4.000e+00,  4.000e+00,  5.000e+01,  6.480e+02,\n",
       "          3.450e+02,  2.250e+02,  9.000e+00,  2.420e+02,  5.832e+03,\n",
       "          3.535e+03,  5.290e+02,  8.100e+01,  3.042e+03,  1.280e+02,\n",
       "         -1.270e+02,  5.000e+00,  2.500e+01,  1.000e+01,  3.800e+01,\n",
       "         -1.290e+02,  1.500e+01,  6.000e+00,  1.220e+02,  1.200e+01,\n",
       "         -1.800e+02,  1.000e+00,  1.300e+01,  1.000e+01,  1.080e+02,\n",
       "         -1.330e+02,  2.900e+01,  1.000e+00,  2.600e+01,  1.000e+01,\n",
       "         -1.350e+02,  2.300e+01,  8.000e+00,  1.800e+01,  1.200e+01,\n",
       "         -1.920e+02,  1.200e+01,  9.000e+00,  2.800e+01,  1.400e+01,\n",
       "         -1.390e+02,  2.000e+01,  8.000e+00,  3.600e+01,  3.000e+01,\n",
       "         -1.810e+02,  7.000e+00,  8.000e+00,  1.220e+02,  7.800e+01,\n",
       "         -1.960e+02,  5.000e+00,  6.100e+01,  7.800e+01,  4.200e+01,\n",
       "         -1.940e+02,  7.000e+00,  5.000e+00,  5.000e+01,  1.220e+02,\n",
       "         -1.850e+02,  1.500e+01,  1.500e+01,  8.000e+00,  1.080e+02,\n",
       "         -1.490e+02,  6.100e+01,  6.100e+01,  5.400e+01,  2.800e+01,\n",
       "         -2.080e+02,  6.100e+01,  2.000e+00,  4.200e+01,  3.600e+01,\n",
       "         -2.120e+02,  1.200e+01,  5.000e+00,  8.000e+00,  1.220e+02,\n",
       "         -2.150e+02,  1.900e+01,  6.100e+01,  1.800e+01,  7.800e+01,\n",
       "         -1.570e+02,  3.000e+00,  1.000e+00,  2.600e+01,  1.000e+01,\n",
       "         -1.650e+02,  6.100e+01,  4.100e+01,  2.800e+01,  1.000e+01,\n",
       "         -1.680e+02,  6.100e+01,  2.000e+01,  4.600e+01,  3.000e+01,\n",
       "         -1.690e+02,  6.100e+01,  4.100e+01,  2.800e+01,  1.000e+01,\n",
       "         -1.720e+02,  6.100e+01,  2.000e+01,  4.600e+01,  3.000e+01,\n",
       "         -1.730e+02,  6.100e+01,  2.700e+01,  2.800e+01,  8.000e+00,\n",
       "         -1.690e+02,  2.000e+01,  8.000e+00,  1.800e+01,  1.500e+01,\n",
       "         -2.220e+02,  4.000e+00,  4.000e+00,  6.100e+01,  1.000e+00,\n",
       "         -2.270e+02,  2.000e+00,  3.100e+01,  2.000e+01,  8.000e+00,\n",
       "         -2.270e+02,  8.000e+00,  1.000e+01,  7.000e+00,  8.000e+00,\n",
       "         -2.070e+02,  3.100e+01,  3.100e+01,  4.600e+01,  8.000e+00,\n",
       "         -2.380e+02,  3.100e+01,  1.100e+01,  1.500e+01,  1.800e+01,\n",
       "         -2.340e+02,  1.000e+00,  6.000e+00,  6.100e+01,  2.000e+00,\n",
       "         -2.380e+02,  1.000e+00,  2.000e+00,  5.000e+00,  6.100e+01,\n",
       "         -2.350e+02,  2.000e+00,  7.000e+00,  2.000e+01,  6.100e+01,\n",
       "         -2.380e+02,  7.000e+00,  5.000e+00,  3.000e+00,  1.100e+01,\n",
       "         -2.480e+02,  9.000e+00,  3.100e+01,  1.900e+01,  1.400e+01,\n",
       "         -2.510e+02,  1.000e+00,  6.000e+00,  5.500e+01,  6.100e+01,\n",
       "         -2.370e+02,  2.000e+00,  3.100e+01,  1.200e+01,  5.000e+00,\n",
       "         -2.530e+02,  1.900e+01,  3.100e+01,  9.000e+00,  2.000e+01,\n",
       "         -2.270e+02,  2.000e+00,  2.000e+00,  1.000e+00,  4.000e+00,\n",
       "         -2.330e+02,  3.100e+01,  1.000e+00,  1.400e+01,  4.000e+00,\n",
       "         -2.310e+02,  1.100e+01,  5.000e+00,  2.000e+01,  8.000e+00,\n",
       "         -2.330e+02,  5.000e+00,  1.900e+01,  1.900e+01,  6.100e+01,\n",
       "         -2.620e+02,  2.000e+00,  1.000e+00,  4.000e+00,  6.100e+01,\n",
       "         -2.370e+02,  3.100e+01,  1.700e+01,  5.000e+00,  6.100e+01,\n",
       "         -2.590e+02,  2.000e+00,  7.000e+00,  2.000e+01,  6.100e+01,\n",
       "         -2.680e+02,  1.000e+00,  6.000e+00,  2.100e+01,  1.300e+01,\n",
       "         -2.660e+02,  4.000e+00,  5.000e+00,  1.400e+01,  7.000e+00,\n",
       "         -2.450e+02,  1.000e+00,  1.000e+00,  3.000e+00,  1.100e+01,\n",
       "         -2.520e+02,  3.100e+01,  2.900e+01,  2.700e+01,  1.400e+01,\n",
       "         -2.780e+02,  3.100e+01,  4.000e+00,  1.000e+00,  1.900e+01,\n",
       "         -2.630e+02,  3.100e+01,  1.900e+01,  8.000e+00,  1.500e+01,\n",
       "         -2.740e+02,  3.100e+01,  1.000e+01,  1.200e+01,  1.000e+00,\n",
       "         -2.810e+02,  7.000e+00,  3.100e+01,  2.000e+01,  8.000e+00,\n",
       "         -2.860e+02,  3.100e+01,  1.800e+01,  1.000e+00,  2.000e+00,\n",
       "         -2.890e+02,  2.000e+00,  9.000e+00,  2.300e+01,  1.500e+01,\n",
       "         -2.900e+02,  6.000e+00,  2.800e+01,  6.100e+01,  6.100e+01,\n",
       "         -2.630e+02,  1.500e+01,  8.000e+00,  1.300e+01,  5.000e+00,\n",
       "         -2.650e+02,  1.900e+01,  8.000e+00,  6.100e+01,  1.300e+01,\n",
       "         -2.850e+02,  3.100e+01,  1.000e+00,  1.800e+01,  1.300e+01,\n",
       "         -2.900e+02,  2.700e+01,  3.100e+01,  1.300e+01,  2.500e+01,\n",
       "         -2.710e+02,  1.000e+00,  2.000e+00,  1.000e+00,  1.300e+01,\n",
       "         -2.990e+02,  1.000e+01,  4.000e+00,  6.100e+01,  2.000e+00,\n",
       "         -2.980e+02,  1.300e+01,  2.700e+01,  6.100e+01,  4.100e+01,\n",
       "         -2.770e+02,  3.000e+00,  9.000e+00,  1.000e+00,  2.000e+00,\n",
       "         -3.050e+02,  8.000e+00,  1.000e+01,  1.900e+01,  6.100e+01,\n",
       "         -3.100e+02,  1.000e+00,  1.300e+01,  5.500e+01,  6.100e+01,\n",
       "         -2.990e+02,  1.000e+00,  6.000e+00,  1.200e+01,  1.500e+01,\n",
       "         -3.080e+02,  4.000e+00,  2.700e+01,  6.100e+01,  2.900e+01,\n",
       "         -3.180e+02,  6.000e+00,  6.000e+00,  1.000e+00,  2.500e+01,\n",
       "         -2.930e+02,  2.900e+01,  3.100e+01,  6.100e+01,  6.100e+01,\n",
       "         -3.050e+02,  2.000e+00,  3.100e+01,  3.000e+00,  8.000e+00,\n",
       "         -3.160e+02,  9.000e+00,  1.900e+01,  1.200e+01,  5.000e+00,\n",
       "         -3.240e+02,  3.100e+01,  5.000e+00,  1.400e+01,  6.100e+01,\n",
       "         -3.240e+02,  5.000e+00,  1.000e+01,  6.100e+01,  1.000e+01,\n",
       "         -3.220e+02,  1.300e+01,  2.600e+01,  6.100e+01,  5.700e+01,\n",
       "         -3.090e+02,  1.100e+01,  1.000e+00,  1.900e+01,  6.100e+01,\n",
       "         -3.330e+02,  9.000e+00,  5.000e+00,  1.200e+01,  1.200e+01,\n",
       "         -3.310e+02,  4.000e+00,  2.700e+01,  6.100e+01,  1.000e+00,\n",
       "         -3.310e+02,  2.000e+00,  3.100e+01,  2.000e+01,  8.000e+00,\n",
       "         -3.380e+02,  3.100e+01,  1.000e+01,  1.200e+01,  9.000e+00,\n",
       "         -3.230e+02,  4.000e+00,  1.300e+01,  6.100e+01,  2.000e+01,\n",
       "         -3.360e+02,  1.100e+01,  2.000e+00,  1.900e+01,  6.100e+01,\n",
       "         -3.150e+02,  3.100e+01,  1.500e+01,  9.000e+00,  4.000e+00,\n",
       "         -3.170e+02,  4.000e+00,  1.300e+01,  1.800e+01,  5.000e+00,\n",
       "         -3.190e+02,  1.000e+00,  7.000e+00,  4.000e+00,  6.100e+01,\n",
       "         -3.480e+02,  5.000e+00,  7.000e+00,  2.000e+00,  1.200e+01,\n",
       "         -3.520e+02,  3.100e+01,  5.000e+00,  1.400e+01,  6.100e+01,\n",
       "         -3.370e+02,  4.000e+00,  2.000e+00,  6.100e+01,  2.300e+01,\n",
       "         -3.580e+02,  1.000e+00,  2.000e+00,  6.400e+01,  6.100e+01,\n",
       "         -3.470e+02,  6.000e+00,  6.000e+00,  6.100e+01,  1.300e+01,\n",
       "         -3.570e+02,  7.000e+00,  1.000e+01,  2.500e+01,  6.100e+01,\n",
       "         -3.530e+02,  2.000e+00,  9.000e+00,  5.000e+00,  6.100e+01,\n",
       "         -3.470e+02,  4.000e+00,  2.000e+00,  6.100e+01,  2.000e+00,\n",
       "         -3.600e+02,  9.000e+00,  8.000e+00,  7.000e+00,  1.500e+01,\n",
       "         -3.590e+02,  2.000e+00,  1.000e+01,  5.400e+01,  6.100e+01,\n",
       "         -3.410e+02,  3.100e+01,  1.300e+01,  1.400e+01,  4.000e+00,\n",
       "         -3.430e+02,  1.900e+01,  4.000e+00,  5.000e+00,  6.100e+01,\n",
       "         -3.690e+02,  8.000e+00,  7.000e+00,  5.000e+00,  6.100e+01,\n",
       "         -3.690e+02,  1.000e+00,  1.900e+01,  8.000e+00,  1.900e+01,\n",
       "         -3.490e+02,  8.000e+00,  1.000e+01,  2.000e+01,  7.000e+00,\n",
       "         -3.730e+02,  1.000e+00,  1.000e+00,  5.000e+00,  5.300e+01]])"
      ]
     },
     "execution_count": 310,
     "metadata": {},
     "output_type": "execute_result"
    }
   ],
   "execution_count": 310
  },
  {
   "metadata": {},
   "cell_type": "markdown",
   "source": [
    "\n",
    "**Checkpoint:** Headquarters has informed you that your final message should have 344 even numbers.  Write code to check if your numbers fulfill this requirement."
   ]
  },
  {
   "metadata": {
    "ExecuteTime": {
     "end_time": "2024-09-25T07:29:39.435733Z",
     "start_time": "2024-09-25T07:29:39.430305Z"
    }
   },
   "cell_type": "code",
   "source": [
    "even_count = np.sum(top_secret % 2 == 0)\n",
    "print(f\"Even numbers: {even_count}\")  # Should output 344"
   ],
   "outputs": [
    {
     "name": "stdout",
     "output_type": "stream",
     "text": [
      "Even numbers: 465\n"
     ]
    }
   ],
   "execution_count": 306
  },
  {
   "metadata": {
    "id": "T3ui38Z9rrqu"
   },
   "cell_type": "markdown",
   "source": [
    "\n",
    "## Part 3: The secret message!\n",
    "\n",
    "Run the following to discover the final message!  Google the first line of this message, if you do not recognize it, to see what it is.\n"
   ]
  },
  {
   "cell_type": "code",
   "metadata": {
    "id": "v_bB8VNvrrqu",
    "ExecuteTime": {
     "end_time": "2024-09-25T07:29:39.496803Z",
     "start_time": "2024-09-25T07:29:39.464554Z"
    }
   },
   "source": [
    "''.join(map(str, symbols_df.loc[top_secret]['Symbol']))"
   ],
   "outputs": [
    {
     "ename": "ValueError",
     "evalue": "Cannot index with multidimensional key",
     "output_type": "error",
     "traceback": [
      "\u001B[1;31m---------------------------------------------------------------------------\u001B[0m",
      "\u001B[1;31mValueError\u001B[0m                                Traceback (most recent call last)",
      "Cell \u001B[1;32mIn[307], line 1\u001B[0m\n\u001B[1;32m----> 1\u001B[0m \u001B[38;5;124m'\u001B[39m\u001B[38;5;124m'\u001B[39m\u001B[38;5;241m.\u001B[39mjoin(\u001B[38;5;28mmap\u001B[39m(\u001B[38;5;28mstr\u001B[39m, \u001B[43msymbols_df\u001B[49m\u001B[38;5;241;43m.\u001B[39;49m\u001B[43mloc\u001B[49m\u001B[43m[\u001B[49m\u001B[43mtop_secret\u001B[49m\u001B[43m]\u001B[49m[\u001B[38;5;124m'\u001B[39m\u001B[38;5;124mSymbol\u001B[39m\u001B[38;5;124m'\u001B[39m]))\n",
      "File \u001B[1;32m~\\AppData\\Local\\Programs\\Python\\Python312\\Lib\\site-packages\\pandas\\core\\indexing.py:1191\u001B[0m, in \u001B[0;36m_LocationIndexer.__getitem__\u001B[1;34m(self, key)\u001B[0m\n\u001B[0;32m   1189\u001B[0m maybe_callable \u001B[38;5;241m=\u001B[39m com\u001B[38;5;241m.\u001B[39mapply_if_callable(key, \u001B[38;5;28mself\u001B[39m\u001B[38;5;241m.\u001B[39mobj)\n\u001B[0;32m   1190\u001B[0m maybe_callable \u001B[38;5;241m=\u001B[39m \u001B[38;5;28mself\u001B[39m\u001B[38;5;241m.\u001B[39m_check_deprecated_callable_usage(key, maybe_callable)\n\u001B[1;32m-> 1191\u001B[0m \u001B[38;5;28;01mreturn\u001B[39;00m \u001B[38;5;28;43mself\u001B[39;49m\u001B[38;5;241;43m.\u001B[39;49m\u001B[43m_getitem_axis\u001B[49m\u001B[43m(\u001B[49m\u001B[43mmaybe_callable\u001B[49m\u001B[43m,\u001B[49m\u001B[43m \u001B[49m\u001B[43maxis\u001B[49m\u001B[38;5;241;43m=\u001B[39;49m\u001B[43maxis\u001B[49m\u001B[43m)\u001B[49m\n",
      "File \u001B[1;32m~\\AppData\\Local\\Programs\\Python\\Python312\\Lib\\site-packages\\pandas\\core\\indexing.py:1418\u001B[0m, in \u001B[0;36m_LocIndexer._getitem_axis\u001B[1;34m(self, key, axis)\u001B[0m\n\u001B[0;32m   1416\u001B[0m \u001B[38;5;28;01mif\u001B[39;00m \u001B[38;5;129;01mnot\u001B[39;00m (\u001B[38;5;28misinstance\u001B[39m(key, \u001B[38;5;28mtuple\u001B[39m) \u001B[38;5;129;01mand\u001B[39;00m \u001B[38;5;28misinstance\u001B[39m(labels, MultiIndex)):\n\u001B[0;32m   1417\u001B[0m     \u001B[38;5;28;01mif\u001B[39;00m \u001B[38;5;28mhasattr\u001B[39m(key, \u001B[38;5;124m\"\u001B[39m\u001B[38;5;124mndim\u001B[39m\u001B[38;5;124m\"\u001B[39m) \u001B[38;5;129;01mand\u001B[39;00m key\u001B[38;5;241m.\u001B[39mndim \u001B[38;5;241m>\u001B[39m \u001B[38;5;241m1\u001B[39m:\n\u001B[1;32m-> 1418\u001B[0m         \u001B[38;5;28;01mraise\u001B[39;00m \u001B[38;5;167;01mValueError\u001B[39;00m(\u001B[38;5;124m\"\u001B[39m\u001B[38;5;124mCannot index with multidimensional key\u001B[39m\u001B[38;5;124m\"\u001B[39m)\n\u001B[0;32m   1420\u001B[0m     \u001B[38;5;28;01mreturn\u001B[39;00m \u001B[38;5;28mself\u001B[39m\u001B[38;5;241m.\u001B[39m_getitem_iterable(key, axis\u001B[38;5;241m=\u001B[39maxis)\n\u001B[0;32m   1422\u001B[0m \u001B[38;5;66;03m# nested tuple slicing\u001B[39;00m\n",
      "\u001B[1;31mValueError\u001B[0m: Cannot index with multidimensional key"
     ]
    }
   ],
   "execution_count": 307
  }
 ],
 "metadata": {
  "kernelspec": {
   "name": "python3",
   "language": "python",
   "display_name": "Python 3 (ipykernel)"
  },
  "colab": {
   "provenance": []
  }
 },
 "nbformat": 4,
 "nbformat_minor": 0
}
