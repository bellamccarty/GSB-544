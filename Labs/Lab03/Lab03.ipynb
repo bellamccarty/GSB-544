{
 "cells": [
  {
   "metadata": {},
   "cell_type": "raw",
   "source": [
    "---\n",
    "title: 'Lab 3: 12 Days of Christmas'\n",
    "author: 'Isabella McCarty'\n",
    "embed-resources: true\n",
    "format: \n",
    "    html:\n",
    "        code-fold: true\n",
    "        theme: minty\n",
    "---\n",
    "\n",
    "s"
   ],
   "id": "53907f4270e9e5c6"
  }
 ],
 "metadata": {
  "kernelspec": {
   "display_name": "Python 3",
   "language": "python",
   "name": "python3"
  },
  "language_info": {
   "codemirror_mode": {
    "name": "ipython",
    "version": 2
   },
   "file_extension": ".py",
   "mimetype": "text/x-python",
   "name": "python",
   "nbconvert_exporter": "python",
   "pygments_lexer": "ipython2",
   "version": "2.7.6"
  }
 },
 "nbformat": 4,
 "nbformat_minor": 5
}
