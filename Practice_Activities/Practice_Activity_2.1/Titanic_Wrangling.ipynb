{
 "nbformat": 4,
 "nbformat_minor": 0,
 "metadata": {
  "colab": {
   "provenance": []
  },
  "kernelspec": {
   "name": "python3",
   "display_name": "Python 3 (ipykernel)",
   "language": "python"
  },
  "language_info": {
   "name": "python"
  }
 },
 "cells": [
  {
   "metadata": {},
   "cell_type": "raw",
   "source": [
    "---\n",
    "title: 'Titanic Data Wrangling'\n",
    "author: 'Isabella McCarty'\n",
    "embed-resources: true\n",
    "format: \n",
    "    html:\n",
    "        theme: minty\n",
    "---"
   ]
  },
  {
   "cell_type": "markdown",
   "source": [
    "# Titanic Wrangling\n",
    "\n",
    "In this practice activity you'll continue to work with the titanic dataset in ways that flex what you've learned about both data wrangling and data visualization."
   ],
   "metadata": {
    "id": "QWpPySbzYEIV"
   }
  },
  {
   "metadata": {
    "ExecuteTime": {
     "end_time": "2024-09-30T16:50:53.482943Z",
     "start_time": "2024-09-30T16:50:53.479719Z"
    }
   },
   "cell_type": "code",
   "source": [
    "import pandas as pd\n",
    "from plotnine import ggplot, aes, geom_bar, labs, theme, position_stack, stat_identity, theme_minimal"
   ],
   "outputs": [],
   "execution_count": 111
  },
  {
   "cell_type": "code",
   "metadata": {
    "id": "Nr6w8bVCf_NM",
    "ExecuteTime": {
     "end_time": "2024-09-30T16:50:53.696471Z",
     "start_time": "2024-09-30T16:50:53.530966Z"
    }
   },
   "source": [
    "# Import the titanic dataset here\n",
    "data_dir = \"https://dlsun.github.io/pods/data/\"\n",
    "df_titanic = pd.read_csv(data_dir + \"titanic.csv\")\n",
    "df_titanic.head()"
   ],
   "outputs": [
    {
     "data": {
      "text/plain": [
       "                             name  gender   age class embarked        country  \\\n",
       "0             Abbing, Mr. Anthony    male  42.0   3rd        S  United States   \n",
       "1       Abbott, Mr. Eugene Joseph    male  13.0   3rd        S  United States   \n",
       "2     Abbott, Mr. Rossmore Edward    male  16.0   3rd        S  United States   \n",
       "3  Abbott, Mrs. Rhoda Mary 'Rosa'  female  39.0   3rd        S        England   \n",
       "4     Abelseth, Miss. Karen Marie  female  16.0   3rd        S         Norway   \n",
       "\n",
       "   ticketno   fare  survived  \n",
       "0    5547.0   7.11         0  \n",
       "1    2673.0  20.05         0  \n",
       "2    2673.0  20.05         0  \n",
       "3    2673.0  20.05         1  \n",
       "4  348125.0   7.13         1  "
      ],
      "text/html": [
       "<div>\n",
       "<style scoped>\n",
       "    .dataframe tbody tr th:only-of-type {\n",
       "        vertical-align: middle;\n",
       "    }\n",
       "\n",
       "    .dataframe tbody tr th {\n",
       "        vertical-align: top;\n",
       "    }\n",
       "\n",
       "    .dataframe thead th {\n",
       "        text-align: right;\n",
       "    }\n",
       "</style>\n",
       "<table border=\"1\" class=\"dataframe\">\n",
       "  <thead>\n",
       "    <tr style=\"text-align: right;\">\n",
       "      <th></th>\n",
       "      <th>name</th>\n",
       "      <th>gender</th>\n",
       "      <th>age</th>\n",
       "      <th>class</th>\n",
       "      <th>embarked</th>\n",
       "      <th>country</th>\n",
       "      <th>ticketno</th>\n",
       "      <th>fare</th>\n",
       "      <th>survived</th>\n",
       "    </tr>\n",
       "  </thead>\n",
       "  <tbody>\n",
       "    <tr>\n",
       "      <th>0</th>\n",
       "      <td>Abbing, Mr. Anthony</td>\n",
       "      <td>male</td>\n",
       "      <td>42.0</td>\n",
       "      <td>3rd</td>\n",
       "      <td>S</td>\n",
       "      <td>United States</td>\n",
       "      <td>5547.0</td>\n",
       "      <td>7.11</td>\n",
       "      <td>0</td>\n",
       "    </tr>\n",
       "    <tr>\n",
       "      <th>1</th>\n",
       "      <td>Abbott, Mr. Eugene Joseph</td>\n",
       "      <td>male</td>\n",
       "      <td>13.0</td>\n",
       "      <td>3rd</td>\n",
       "      <td>S</td>\n",
       "      <td>United States</td>\n",
       "      <td>2673.0</td>\n",
       "      <td>20.05</td>\n",
       "      <td>0</td>\n",
       "    </tr>\n",
       "    <tr>\n",
       "      <th>2</th>\n",
       "      <td>Abbott, Mr. Rossmore Edward</td>\n",
       "      <td>male</td>\n",
       "      <td>16.0</td>\n",
       "      <td>3rd</td>\n",
       "      <td>S</td>\n",
       "      <td>United States</td>\n",
       "      <td>2673.0</td>\n",
       "      <td>20.05</td>\n",
       "      <td>0</td>\n",
       "    </tr>\n",
       "    <tr>\n",
       "      <th>3</th>\n",
       "      <td>Abbott, Mrs. Rhoda Mary 'Rosa'</td>\n",
       "      <td>female</td>\n",
       "      <td>39.0</td>\n",
       "      <td>3rd</td>\n",
       "      <td>S</td>\n",
       "      <td>England</td>\n",
       "      <td>2673.0</td>\n",
       "      <td>20.05</td>\n",
       "      <td>1</td>\n",
       "    </tr>\n",
       "    <tr>\n",
       "      <th>4</th>\n",
       "      <td>Abelseth, Miss. Karen Marie</td>\n",
       "      <td>female</td>\n",
       "      <td>16.0</td>\n",
       "      <td>3rd</td>\n",
       "      <td>S</td>\n",
       "      <td>Norway</td>\n",
       "      <td>348125.0</td>\n",
       "      <td>7.13</td>\n",
       "      <td>1</td>\n",
       "    </tr>\n",
       "  </tbody>\n",
       "</table>\n",
       "</div>"
      ]
     },
     "execution_count": 112,
     "metadata": {},
     "output_type": "execute_result"
    }
   ],
   "execution_count": 112
  },
  {
   "cell_type": "markdown",
   "source": [
    "## 1. Filter the data to include passengers only. Calculate the joint distribution (cross-tab) between a passenger's class and where they embarked."
   ],
   "metadata": {
    "id": "9UgZD6VFYa96"
   }
  },
  {
   "cell_type": "code",
   "source": [
    "# Code here\n",
    "df_titanic = df_titanic[\n",
    "    (df_titanic['class'] == '1st') | (df_titanic['class'] == '2nd') | (df_titanic['class'] == '3rd')]\n",
    "joint_dist = pd.crosstab(df_titanic['class'], df_titanic['embarked'], normalize=True)"
   ],
   "metadata": {
    "id": "TBthOzDLgBif",
    "ExecuteTime": {
     "end_time": "2024-09-30T16:50:53.919425Z",
     "start_time": "2024-09-30T16:50:53.909950Z"
    }
   },
   "outputs": [],
   "execution_count": 113
  },
  {
   "metadata": {
    "ExecuteTime": {
     "end_time": "2024-09-30T16:50:53.967875Z",
     "start_time": "2024-09-30T16:50:53.960630Z"
    }
   },
   "cell_type": "code",
   "source": "joint_dist",
   "outputs": [
    {
     "data": {
      "text/plain": [
       "embarked         B         C         Q         S\n",
       "class                                           \n",
       "1st       0.002278  0.108580  0.002278  0.132878\n",
       "2nd       0.004556  0.019742  0.005315  0.186029\n",
       "3rd       0.000000  0.077449  0.085801  0.375095"
      ],
      "text/html": [
       "<div>\n",
       "<style scoped>\n",
       "    .dataframe tbody tr th:only-of-type {\n",
       "        vertical-align: middle;\n",
       "    }\n",
       "\n",
       "    .dataframe tbody tr th {\n",
       "        vertical-align: top;\n",
       "    }\n",
       "\n",
       "    .dataframe thead th {\n",
       "        text-align: right;\n",
       "    }\n",
       "</style>\n",
       "<table border=\"1\" class=\"dataframe\">\n",
       "  <thead>\n",
       "    <tr style=\"text-align: right;\">\n",
       "      <th>embarked</th>\n",
       "      <th>B</th>\n",
       "      <th>C</th>\n",
       "      <th>Q</th>\n",
       "      <th>S</th>\n",
       "    </tr>\n",
       "    <tr>\n",
       "      <th>class</th>\n",
       "      <th></th>\n",
       "      <th></th>\n",
       "      <th></th>\n",
       "      <th></th>\n",
       "    </tr>\n",
       "  </thead>\n",
       "  <tbody>\n",
       "    <tr>\n",
       "      <th>1st</th>\n",
       "      <td>0.002278</td>\n",
       "      <td>0.108580</td>\n",
       "      <td>0.002278</td>\n",
       "      <td>0.132878</td>\n",
       "    </tr>\n",
       "    <tr>\n",
       "      <th>2nd</th>\n",
       "      <td>0.004556</td>\n",
       "      <td>0.019742</td>\n",
       "      <td>0.005315</td>\n",
       "      <td>0.186029</td>\n",
       "    </tr>\n",
       "    <tr>\n",
       "      <th>3rd</th>\n",
       "      <td>0.000000</td>\n",
       "      <td>0.077449</td>\n",
       "      <td>0.085801</td>\n",
       "      <td>0.375095</td>\n",
       "    </tr>\n",
       "  </tbody>\n",
       "</table>\n",
       "</div>"
      ]
     },
     "execution_count": 114,
     "metadata": {},
     "output_type": "execute_result"
    }
   ],
   "execution_count": 114
  },
  {
   "cell_type": "markdown",
   "source": [
    "## 2. Using the joint distribution that calculated above, calculate the following:\n",
    "\n",
    "* the conditional distribution of their class given where they embarked\n",
    "* the conditional distribution of where they embarked given their class\n",
    "\n",
    "Use the conditional distributions that you calculate to answer the following quesitons:\n",
    "\n",
    "* What proportion of 3rd class passengers embarked at Southampton?\n",
    "* What proportion of Southampton passengers were in 3rd class?"
   ],
   "metadata": {
    "id": "3CRaJLSyYm4d"
   }
  },
  {
   "cell_type": "code",
   "source": [
    "# Code here\n",
    "# Conditional distribution of class given where they embarked\n",
    "cond_class_given_embarked = pd.crosstab(df_titanic['class'], df_titanic['embarked'], normalize='columns')\n",
    "cond_class_given_embarked"
   ],
   "metadata": {
    "ExecuteTime": {
     "end_time": "2024-09-30T16:50:54.112661Z",
     "start_time": "2024-09-30T16:50:54.099676Z"
    }
   },
   "outputs": [
    {
     "data": {
      "text/plain": [
       "embarked         B         C         Q         S\n",
       "class                                           \n",
       "1st       0.333333  0.527675  0.024390  0.191466\n",
       "2nd       0.666667  0.095941  0.056911  0.268053\n",
       "3rd       0.000000  0.376384  0.918699  0.540481"
      ],
      "text/html": [
       "<div>\n",
       "<style scoped>\n",
       "    .dataframe tbody tr th:only-of-type {\n",
       "        vertical-align: middle;\n",
       "    }\n",
       "\n",
       "    .dataframe tbody tr th {\n",
       "        vertical-align: top;\n",
       "    }\n",
       "\n",
       "    .dataframe thead th {\n",
       "        text-align: right;\n",
       "    }\n",
       "</style>\n",
       "<table border=\"1\" class=\"dataframe\">\n",
       "  <thead>\n",
       "    <tr style=\"text-align: right;\">\n",
       "      <th>embarked</th>\n",
       "      <th>B</th>\n",
       "      <th>C</th>\n",
       "      <th>Q</th>\n",
       "      <th>S</th>\n",
       "    </tr>\n",
       "    <tr>\n",
       "      <th>class</th>\n",
       "      <th></th>\n",
       "      <th></th>\n",
       "      <th></th>\n",
       "      <th></th>\n",
       "    </tr>\n",
       "  </thead>\n",
       "  <tbody>\n",
       "    <tr>\n",
       "      <th>1st</th>\n",
       "      <td>0.333333</td>\n",
       "      <td>0.527675</td>\n",
       "      <td>0.024390</td>\n",
       "      <td>0.191466</td>\n",
       "    </tr>\n",
       "    <tr>\n",
       "      <th>2nd</th>\n",
       "      <td>0.666667</td>\n",
       "      <td>0.095941</td>\n",
       "      <td>0.056911</td>\n",
       "      <td>0.268053</td>\n",
       "    </tr>\n",
       "    <tr>\n",
       "      <th>3rd</th>\n",
       "      <td>0.000000</td>\n",
       "      <td>0.376384</td>\n",
       "      <td>0.918699</td>\n",
       "      <td>0.540481</td>\n",
       "    </tr>\n",
       "  </tbody>\n",
       "</table>\n",
       "</div>"
      ]
     },
     "execution_count": 115,
     "metadata": {},
     "output_type": "execute_result"
    }
   ],
   "execution_count": 115
  },
  {
   "metadata": {
    "ExecuteTime": {
     "end_time": "2024-09-30T16:50:54.231342Z",
     "start_time": "2024-09-30T16:50:54.218073Z"
    }
   },
   "cell_type": "code",
   "source": [
    "# Conditional distribution of embarkation point given passenger class\n",
    "cond_embarked_given_class = pd.crosstab(df_titanic['class'], df_titanic['embarked'], normalize='index')\n",
    "cond_embarked_given_class"
   ],
   "outputs": [
    {
     "data": {
      "text/plain": [
       "embarked         B         C         Q         S\n",
       "class                                           \n",
       "1st       0.009259  0.441358  0.009259  0.540123\n",
       "2nd       0.021127  0.091549  0.024648  0.862676\n",
       "3rd       0.000000  0.143865  0.159379  0.696756"
      ],
      "text/html": [
       "<div>\n",
       "<style scoped>\n",
       "    .dataframe tbody tr th:only-of-type {\n",
       "        vertical-align: middle;\n",
       "    }\n",
       "\n",
       "    .dataframe tbody tr th {\n",
       "        vertical-align: top;\n",
       "    }\n",
       "\n",
       "    .dataframe thead th {\n",
       "        text-align: right;\n",
       "    }\n",
       "</style>\n",
       "<table border=\"1\" class=\"dataframe\">\n",
       "  <thead>\n",
       "    <tr style=\"text-align: right;\">\n",
       "      <th>embarked</th>\n",
       "      <th>B</th>\n",
       "      <th>C</th>\n",
       "      <th>Q</th>\n",
       "      <th>S</th>\n",
       "    </tr>\n",
       "    <tr>\n",
       "      <th>class</th>\n",
       "      <th></th>\n",
       "      <th></th>\n",
       "      <th></th>\n",
       "      <th></th>\n",
       "    </tr>\n",
       "  </thead>\n",
       "  <tbody>\n",
       "    <tr>\n",
       "      <th>1st</th>\n",
       "      <td>0.009259</td>\n",
       "      <td>0.441358</td>\n",
       "      <td>0.009259</td>\n",
       "      <td>0.540123</td>\n",
       "    </tr>\n",
       "    <tr>\n",
       "      <th>2nd</th>\n",
       "      <td>0.021127</td>\n",
       "      <td>0.091549</td>\n",
       "      <td>0.024648</td>\n",
       "      <td>0.862676</td>\n",
       "    </tr>\n",
       "    <tr>\n",
       "      <th>3rd</th>\n",
       "      <td>0.000000</td>\n",
       "      <td>0.143865</td>\n",
       "      <td>0.159379</td>\n",
       "      <td>0.696756</td>\n",
       "    </tr>\n",
       "  </tbody>\n",
       "</table>\n",
       "</div>"
      ]
     },
     "execution_count": 116,
     "metadata": {},
     "output_type": "execute_result"
    }
   ],
   "execution_count": 116
  },
  {
   "metadata": {
    "ExecuteTime": {
     "end_time": "2024-09-30T16:50:54.421594Z",
     "start_time": "2024-09-30T16:50:54.417519Z"
    }
   },
   "cell_type": "code",
   "source": [
    "# 1. What proportion of 3rd class passengers embarked at Southampton?\n",
    "third_class_southampton = cond_embarked_given_class.loc['3rd', 'S']\n",
    "print(third_class_southampton)"
   ],
   "outputs": [
    {
     "name": "stdout",
     "output_type": "stream",
     "text": [
      "0.6967559943582511\n"
     ]
    }
   ],
   "execution_count": 117
  },
  {
   "metadata": {
    "id": "TfTGidLIv1k0",
    "ExecuteTime": {
     "end_time": "2024-09-30T16:50:54.575251Z",
     "start_time": "2024-09-30T16:50:54.571865Z"
    }
   },
   "cell_type": "code",
   "source": [
    "# 2. What proportion of Southampton passengers were in 3rd class?\n",
    "southampton_third_class = cond_class_given_embarked.loc['3rd', 'S']\n",
    "print(southampton_third_class)"
   ],
   "outputs": [
    {
     "name": "stdout",
     "output_type": "stream",
     "text": [
      "0.5404814004376368\n"
     ]
    }
   ],
   "execution_count": 118
  },
  {
   "cell_type": "markdown",
   "source": [
    "## 3. Make a visualization showing the distribution of a passenger's class, given where they embarked.\n",
    "\n",
    "Discuss the pros and cons of using this visualization versus the distributions you calculated before, to answer the previous questions."
   ],
   "metadata": {
    "id": "pGUQeeh1ZRfz"
   }
  },
  {
   "cell_type": "code",
   "source": [
    "# Code here\n",
    "df_plot = cond_class_given_embarked.reset_index().melt(id_vars='class', var_name='embarked', value_name='proportion')\n",
    "\n",
    "# Create the bar plot using plotnine\n",
    "(ggplot(df_plot, aes(x='embarked', y='proportion', fill='class')) +\n",
    "    geom_bar(stat = \"identity\") + \n",
    "# With stat='identity': Since we have pre-calculated proportions this will plot the exact proportions instead of trying to count the occurrences again.\n",
    "    labs(\n",
    "        title=\"Distribution of Passenger Class Given Where They Embarked\",\n",
    "        x=\"Embarked\",\n",
    "        y=\"Proportion of Passenger Class\",\n",
    "        fill=\"Class\"\n",
    "    ) +\n",
    "    theme_minimal()\n",
    ")"
   ],
   "metadata": {
    "id": "PZ18WKJWA-xZ",
    "ExecuteTime": {
     "end_time": "2024-09-30T16:50:54.793916Z",
     "start_time": "2024-09-30T16:50:54.654781Z"
    }
   },
   "outputs": [
    {
     "data": {
      "text/plain": [
       "<Figure size 640x480 with 1 Axes>"
      ],
      "image/png": "[encoded data removed]"
     },
     "metadata": {
      "image/png": {
       "width": 640,
       "height": 480
      },
      "needs_background": "light"
     },
     "output_type": "display_data"
    },
    {
     "data": {
      "text/plain": [
       "<Figure Size: (640 x 480)>"
      ]
     },
     "execution_count": 119,
     "metadata": {},
     "output_type": "execute_result"
    }
   ],
   "execution_count": 119
  },
  {
   "metadata": {},
   "cell_type": "markdown",
   "source": "Source: https://www.edureka.co/community/54923/error-stat-count-must-not-be-used-with-a-y-aesthetic#:~:text=This%20error%20comes%20due%20to,as%20used%20in%20mapping%20function."
  },
  {
   "metadata": {},
   "cell_type": "markdown",
   "source": [
    "Pros-\n",
    "\n",
    "The stacked bar chart makes it easier for us to see the relative proportions of each class within each embarkation location, visually. This is especially useful when comparing across categories without needing to interpret numbers directly, and allows us to quickly draw quick conclusions like \"No 3rd class passengers embarked from Belfast\". \n",
    "\n",
    "Cons-\n",
    "\n",
    "With this barplot, we can't directly extract precise values, so it's less useful when exact numeric answers are required for the kinds of conditional probability questions we addressed before. Also, there is not a way to know how this plot was calculated, as I could have made a similar plot with the conditional distribution of embarkation location given their class."
   ]
  }
 ]
}
