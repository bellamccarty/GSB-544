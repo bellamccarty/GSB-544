{
 "cells": [
  {
   "cell_type": "raw",
   "metadata": {
    "id": "7c0dd8d6"
   },
   "source": "",
   "id": "7c0dd8d6"
  },
  {
   "cell_type": "markdown",
   "source": [
    "This notebook is composed of many *chunks*, containing either python code or formatted text.  In this activity you will practice both.  Make sure to always run each code chunk once as you work past it."
   ],
   "metadata": {
    "id": "KLiOv05-tcm7"
   },
   "id": "KLiOv05-tcm7"
  },
  {
   "cell_type": "markdown",
   "source": [
    "*Get in a group of 3-4 people.  You should each fill out your own copy of this notebook.*"
   ],
   "metadata": {
    "id": "kZcVtNnqtHRU"
   },
   "id": "kZcVtNnqtHRU"
  },
  {
   "cell_type": "code",
   "metadata": {
    "id": "libraries-py",
    "ExecuteTime": {
     "end_time": "2024-09-25T05:36:26.470059Z",
     "start_time": "2024-09-25T05:36:25.534420Z"
    }
   },
   "source": [
    "#| label: libraries-py\n",
    "#| include: false\n",
    "import matplotlib.pyplot as plt"
   ],
   "id": "libraries-py",
   "outputs": [],
   "execution_count": 1
  },
  {
   "cell_type": "markdown",
   "metadata": {
    "id": "89613630"
   },
   "source": [
    "1.  Write the names of your group members below, as a bullet point list.\n",
    "  - Luke\n",
    "  - Bella\n",
    "  - Ethan\n",
    "  - Daniel\n",
    "\n",
    "2.  Find something that all of you enjoy for fun. Insert a related picture or meme below.\n",
    "\n",
    "We like finding funny reaction pictures. \n",
    "\n",
    "\n",
    "<img src=\"pic.jpg\">\n",
    "\n",
    "3.  Everyone decide your comfort level on a scale of 1-10 in python, and your favorite colors from [this](https://matplotlib.org/stable/gallery/color/named_colors.html) list.\n",
    "\n",
    "Edit the code below so that it has your names and corresponding comfort levels."
   ],
   "id": "89613630"
  },
  {
   "cell_type": "code",
   "metadata": {
    "id": "group_info-py",
    "ExecuteTime": {
     "end_time": "2024-09-25T05:36:26.486920Z",
     "start_time": "2024-09-25T05:36:26.483104Z"
    }
   },
   "source": [
    "#| label: group_info-py\n",
    "group_data = {\n",
    "  'names': [\"Ethan\", \"Liam\", \"Bella\", \"Daniel\"],\n",
    "  'colors': [\"cornflowerblue\", \"darkorchid\", \"pink\", \"lightcyan\"],\n",
    "  'comfort': [3, 3, 10, 5]\n",
    "  }"
   ],
   "id": "group_info-py",
   "outputs": [],
   "execution_count": 2
  },
  {
   "cell_type": "markdown",
   "metadata": {
    "id": "f8ac1475"
   },
   "source": [
    "4.  Click \"Run\" on the code chunk below and see the plot that is produced.\n",
    "\n",
    "(Do not edit the code below!)"
   ],
   "id": "f8ac1475"
  },
  {
   "cell_type": "code",
   "metadata": {
    "id": "plot-py",
    "colab": {
     "base_uri": "https://localhost:8080/",
     "height": 430
    },
    "outputId": "a6e3a8ce-38c3-4af0-87b9-49b8375142fc",
    "ExecuteTime": {
     "end_time": "2024-09-25T05:36:26.615950Z",
     "start_time": "2024-09-25T05:36:26.497459Z"
    }
   },
   "source": [
    "#| label: plot-py\n",
    "#| fig-cap: Our comfort levels with python\n",
    "\n",
    "plt.bar(x = group_data['names'], height = group_data['comfort'], color = group_data['colors'])\n",
    "plt.ylabel(\"Comfort with python\")\n",
    "plt.show()"
   ],
   "id": "plot-py",
   "outputs": [
    {
     "data": {
      "text/plain": [
       "<Figure size 640x480 with 1 Axes>"
      ],
      "image/png": "[encoded data removed]"
     },
     "metadata": {},
     "output_type": "display_data"
    }
   ],
   "execution_count": 3
  },
  {
   "metadata": {},
   "cell_type": "markdown",
   "source": "",
   "id": "4cb9c351b026a3d5"
  }
 ],
 "metadata": {
  "kernelspec": {
   "display_name": "Python 3",
   "language": "python",
   "name": "python3"
  },
  "colab": {
   "provenance": []
  }
 },
 "nbformat": 4,
 "nbformat_minor": 5
}
