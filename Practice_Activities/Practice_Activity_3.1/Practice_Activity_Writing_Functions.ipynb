{
 "nbformat": 4,
 "nbformat_minor": 0,
 "metadata": {
  "colab": {
   "provenance": []
  },
  "kernelspec": {
   "name": "python3",
   "display_name": "Python 3 (ipykernel)",
   "language": "python"
  },
  "language_info": {
   "name": "python"
  }
 },
 "cells": [
  {
   "metadata": {},
   "cell_type": "raw",
   "source": [
    "---\n",
    "title: 'Writing Functions'\n",
    "author: 'Isabella McCarty'\n",
    "embed-resources: true\n",
    "format: \n",
    "    html:\n",
    "        code-fold: true\n",
    "        theme: minty\n",
    "---"
   ]
  },
  {
   "cell_type": "code",
   "metadata": {
    "id": "b69ul3XcoRQv",
    "ExecuteTime": {
     "end_time": "2024-10-11T21:43:40.072617Z",
     "start_time": "2024-10-11T21:43:39.322257Z"
    }
   },
   "source": [
    "import numpy as np\n",
    "import pandas as pd\n",
    "from sys import exit\n",
    "from palmerpenguins import load_penguins\n",
    "from plotnine import ggplot, aes, geom_point, geom_bar"
   ],
   "outputs": [],
   "execution_count": 1
  },
  {
   "cell_type": "markdown",
   "source": [
    "1. Fill in the necessary code to write a function called `times_seven()`. The function should take a single argument (`x`) and multiply the input by 7.\n",
    "  + This function should check that the argument is numeric.\n",
    "  + This function should also excitedly announce (print) *“I love sevens!”* if the argument to the function is a 7."
   ],
   "metadata": {
    "id": "1Q8_a-5qociG"
   }
  },
  {
   "cell_type": "code",
   "source": [
    "def times_seven(x):\n",
    "\n",
    "    # Check if the argument is numeric\n",
    "    if not isinstance(x, (int, float)):\n",
    "        exit(\"Input must be a number.\")\n",
    "\n",
    "    # Check if the argument is 7\n",
    "    if x == 7:\n",
    "        print(\"I love sevens!\")\n",
    "\n",
    "    # Return the input multiplied by 7\n",
    "    return x * 7"
   ],
   "metadata": {
    "id": "l5CW0nuloYzy",
    "ExecuteTime": {
     "end_time": "2024-10-11T21:43:40.086308Z",
     "start_time": "2024-10-11T21:43:40.081626Z"
    }
   },
   "outputs": [],
   "execution_count": 2
  },
  {
   "cell_type": "markdown",
   "source": [
    "2. Write and run some *unit tests* for your `times_seven` function.  What happens if the input to the function is `[1, 3, 5, 7]`?\n",
    "\n",
    "\n",
    "\n"
   ],
   "metadata": {
    "id": "nonjYlruotrq"
   }
  },
  {
   "cell_type": "code",
   "source": [
    "print(times_seven(1))\n",
    "print(times_seven(3))\n",
    "print(times_seven(5))\n",
    "print(times_seven(7))\n",
    "print(times_seven(\"seven\"))"
   ],
   "metadata": {
    "colab": {
     "base_uri": "https://localhost:8080/",
     "height": 193
    },
    "id": "JVubAxoKAxzt",
    "outputId": "14eb4eae-966c-46e8-dd95-43533b3e89e1",
    "ExecuteTime": {
     "end_time": "2024-10-11T21:43:51.256245Z",
     "start_time": "2024-10-11T21:43:51.250929Z"
    }
   },
   "outputs": [
    {
     "name": "stdout",
     "output_type": "stream",
     "text": [
      "7\n",
      "21\n",
      "35\n",
      "I love sevens!\n",
      "49\n"
     ]
    },
    {
     "ename": "SystemExit",
     "evalue": "Input must be a number.",
     "output_type": "error",
     "traceback": [
      "An exception has occurred, use %tb to see the full traceback.\n",
      "\u001B[1;31mSystemExit\u001B[0m\u001B[1;31m:\u001B[0m Input must be a number.\n"
     ]
    }
   ],
   "execution_count": 4
  },
  {
   "cell_type": "code",
   "source": [
    "print(times_seven([1, 3, 5, 7]))"
   ],
   "metadata": {
    "colab": {
     "base_uri": "https://localhost:8080/",
     "height": 89
    },
    "id": "zLCSbZaOB4Wu",
    "outputId": "4822f464-4f35-43ab-f2af-8ed7cb5f9554",
    "ExecuteTime": {
     "end_time": "2024-10-11T21:43:52.951865Z",
     "start_time": "2024-10-11T21:43:52.948332Z"
    }
   },
   "outputs": [
    {
     "ename": "SystemExit",
     "evalue": "Input must be a number.",
     "output_type": "error",
     "traceback": [
      "An exception has occurred, use %tb to see the full traceback.\n",
      "\u001B[1;31mSystemExit\u001B[0m\u001B[1;31m:\u001B[0m Input must be a number.\n"
     ]
    }
   ],
   "execution_count": 5
  },
  {
   "cell_type": "markdown",
   "source": [
    "My times_seven function appears to function as intended. When passing a list of numbers, the check in my function emphasizes that the input must be a number."
   ],
   "metadata": {
    "id": "xksyzWKJB6jH"
   }
  },
  {
   "cell_type": "markdown",
   "source": [
    "3. Consider the following function:"
   ],
   "metadata": {
    "id": "98sLHKBno39e"
   }
  },
  {
   "cell_type": "code",
   "source": [
    "def add_or_subtract(first_num, second_num = 2, type = \"add\"):\n",
    "\n",
    "  if (type == \"add\"):\n",
    "    res = first_num + second_num\n",
    "  elif (type == \"subtract\"):\n",
    "    res = first_num - second_num\n",
    "  else:\n",
    "    exit(\"Please choose `add` or `subtract` as the type.\")\n",
    "\n",
    "    return res"
   ],
   "metadata": {
    "id": "V1xGEwq-o5mh",
    "ExecuteTime": {
     "end_time": "2024-10-11T21:43:54.950843Z",
     "start_time": "2024-10-11T21:43:54.946421Z"
    }
   },
   "outputs": [],
   "execution_count": 6
  },
  {
   "cell_type": "markdown",
   "source": [
    "**Without running the code**, predict if the following will produce:\n",
    "\n",
    "a. 1\n",
    "\n",
    "b. -1\n",
    "\n",
    "c. 30\n",
    "\n",
    "d. An error defined by the function `add_or_subtract()`\n",
    "\n",
    "e. An error defined in a different function, which is called inside the `add_or_subtract()` function"
   ],
   "metadata": {
    "id": "KIzEYgR1pI0K"
   }
  },
  {
   "cell_type": "code",
   "source": [
    "# This will produce b. -1\n",
    "add_or_subtract(5, 6, type = \"subtract\")\n",
    "\n",
    "# This will produce e. An error defined in a different function, which is called inside the add_or_subtract() function\n",
    "# add_or_subtract(\"orange\")\n",
    "\n",
    "# # This will  produce d. An error defined by the function add_or_subtract()\n",
    "# add_or_subtract(5, 6, type = \"multiply\")"
   ],
   "metadata": {
    "id": "AKN_fkigpHIS",
    "ExecuteTime": {
     "end_time": "2024-10-11T21:43:58.538234Z",
     "start_time": "2024-10-11T21:43:58.533722Z"
    }
   },
   "outputs": [],
   "execution_count": 8
  },
  {
   "cell_type": "markdown",
   "source": [
    "The above code will produce outputs b, e, and d."
   ],
   "metadata": {
    "id": "VtcBnY2GCfFz"
   }
  },
  {
   "cell_type": "markdown",
   "source": [
    "4. Consider the following code:"
   ],
   "metadata": {
    "id": "Z0_cVjgdpOSr"
   }
  },
  {
   "cell_type": "code",
   "source": [
    "first_num  = 5\n",
    "second_num = 3\n",
    "\n",
    "result = 8\n",
    "\n",
    "result = add_or_subtract(first_num, second_num = 4)\n",
    "\n",
    "result_2 = add_or_subtract(first_num)"
   ],
   "metadata": {
    "id": "G4ImmGWGpekK",
    "ExecuteTime": {
     "end_time": "2024-10-11T21:44:00.150783Z",
     "start_time": "2024-10-11T21:44:00.145870Z"
    }
   },
   "outputs": [],
   "execution_count": 9
  },
  {
   "cell_type": "markdown",
   "source": [
    "\n",
    "In your Global Environment, what is the value of...\n",
    "\n",
    "a. `first_num`\n",
    "\n",
    "5\n",
    "\n",
    "b. `second_num`\n",
    "\n",
    "3\n",
    "\n",
    "c. `result`\n",
    "\n",
    "1\n",
    "\n",
    "d. `result_2`\n",
    "\n",
    "7"
   ],
   "metadata": {
    "id": "K0I7k29Qpjfo"
   }
  }
 ]
}
