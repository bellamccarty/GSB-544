{
 "cells": [
  {
   "metadata": {},
   "cell_type": "raw",
   "source": [
    "---\n",
    "title: \"Lab 7: Heart Attack Risk Prediction\"\n",
    "author: \"Isabella McCarty\"\n",
    "format: \n",
    "  html:\n",
    "    toc: true\n",
    "    code-fold: true\n",
    "    theme: minty\n",
    "    code-line-numbers: true\n",
    "    code-tools: true\n",
    "    self-contained: true\n",
    "execute:\n",
    "  message: false\n",
    "---"
   ],
   "id": "f868f87767a82696"
  },
  {
   "metadata": {},
   "cell_type": "markdown",
   "source": [
    "## Data Description\n",
    "The dataset consists of clinical data from patients experiencing chest pain during exercise. The target variable is `output`, which indicates the likelihood of a heart attack:\n",
    "- `0`: Not at risk of heart attack\n",
    "- `1`: At risk of heart attack"
   ],
   "id": "cd625e0dbae2634d"
  },
  {
   "metadata": {},
   "cell_type": "markdown",
   "source": "## Data Loading and Exploration",
   "id": "c785744a79d18301"
  },
  {
   "metadata": {
    "ExecuteTime": {
     "end_time": "2024-11-27T23:29:37.132906Z",
     "start_time": "2024-11-27T23:29:37.128508Z"
    }
   },
   "cell_type": "code",
   "source": [
    "# Import necessary libraries\n",
    "import numpy as np\n",
    "from plotnine import *\n",
    "import pandas as pd\n",
    "from plotnine import ggplot, aes, geom_line, geom_abline, labs, theme_minimal, scale_color_manual\n",
    "from sklearn.model_selection import train_test_split, cross_val_score, StratifiedKFold, GridSearchCV, cross_val_predict\n",
    "from sklearn.metrics import roc_auc_score, roc_curve, confusion_matrix, classification_report, cohen_kappa_score, auc, \\\n",
    "    recall_score, precision_score"
   ],
   "id": "a7547a48c4b74ee3",
   "outputs": [],
   "execution_count": 45
  },
  {
   "metadata": {
    "ExecuteTime": {
     "end_time": "2024-11-27T23:29:39.194732Z",
     "start_time": "2024-11-27T23:29:37.172923Z"
    }
   },
   "cell_type": "code",
   "source": [
    "# Load the dataset\n",
    "ha = pd.read_csv(\"https://www.dropbox.com/s/aohbr6yb9ifmc8w/heart_attack.csv?dl=1\")\n",
    "ha.head()"
   ],
   "id": "59c30f1be00aae40",
   "outputs": [
    {
     "data": {
      "text/plain": [
       "   age  sex  cp  trtbps  chol  restecg  thalach  output\n",
       "0   63    1   3     145   233        0      150       1\n",
       "1   37    1   2     130   250        1      187       1\n",
       "2   56    1   1     120   236        1      178       1\n",
       "3   57    0   0     120   354        1      163       1\n",
       "4   57    1   0     140   192        1      148       1"
      ],
      "text/html": [
       "<div>\n",
       "<style scoped>\n",
       "    .dataframe tbody tr th:only-of-type {\n",
       "        vertical-align: middle;\n",
       "    }\n",
       "\n",
       "    .dataframe tbody tr th {\n",
       "        vertical-align: top;\n",
       "    }\n",
       "\n",
       "    .dataframe thead th {\n",
       "        text-align: right;\n",
       "    }\n",
       "</style>\n",
       "<table border=\"1\" class=\"dataframe\">\n",
       "  <thead>\n",
       "    <tr style=\"text-align: right;\">\n",
       "      <th></th>\n",
       "      <th>age</th>\n",
       "      <th>sex</th>\n",
       "      <th>cp</th>\n",
       "      <th>trtbps</th>\n",
       "      <th>chol</th>\n",
       "      <th>restecg</th>\n",
       "      <th>thalach</th>\n",
       "      <th>output</th>\n",
       "    </tr>\n",
       "  </thead>\n",
       "  <tbody>\n",
       "    <tr>\n",
       "      <th>0</th>\n",
       "      <td>63</td>\n",
       "      <td>1</td>\n",
       "      <td>3</td>\n",
       "      <td>145</td>\n",
       "      <td>233</td>\n",
       "      <td>0</td>\n",
       "      <td>150</td>\n",
       "      <td>1</td>\n",
       "    </tr>\n",
       "    <tr>\n",
       "      <th>1</th>\n",
       "      <td>37</td>\n",
       "      <td>1</td>\n",
       "      <td>2</td>\n",
       "      <td>130</td>\n",
       "      <td>250</td>\n",
       "      <td>1</td>\n",
       "      <td>187</td>\n",
       "      <td>1</td>\n",
       "    </tr>\n",
       "    <tr>\n",
       "      <th>2</th>\n",
       "      <td>56</td>\n",
       "      <td>1</td>\n",
       "      <td>1</td>\n",
       "      <td>120</td>\n",
       "      <td>236</td>\n",
       "      <td>1</td>\n",
       "      <td>178</td>\n",
       "      <td>1</td>\n",
       "    </tr>\n",
       "    <tr>\n",
       "      <th>3</th>\n",
       "      <td>57</td>\n",
       "      <td>0</td>\n",
       "      <td>0</td>\n",
       "      <td>120</td>\n",
       "      <td>354</td>\n",
       "      <td>1</td>\n",
       "      <td>163</td>\n",
       "      <td>1</td>\n",
       "    </tr>\n",
       "    <tr>\n",
       "      <th>4</th>\n",
       "      <td>57</td>\n",
       "      <td>1</td>\n",
       "      <td>0</td>\n",
       "      <td>140</td>\n",
       "      <td>192</td>\n",
       "      <td>1</td>\n",
       "      <td>148</td>\n",
       "      <td>1</td>\n",
       "    </tr>\n",
       "  </tbody>\n",
       "</table>\n",
       "</div>"
      ]
     },
     "execution_count": 46,
     "metadata": {},
     "output_type": "execute_result"
    }
   ],
   "execution_count": 46
  },
  {
   "metadata": {
    "ExecuteTime": {
     "end_time": "2024-11-27T23:29:39.766314Z",
     "start_time": "2024-11-27T23:29:39.733204Z"
    }
   },
   "cell_type": "code",
   "source": [
    "# Brief exploration and summary\n",
    "ha.info()\n",
    "ha.describe()"
   ],
   "id": "cc706bbd149cc3e2",
   "outputs": [
    {
     "name": "stdout",
     "output_type": "stream",
     "text": [
      "<class 'pandas.core.frame.DataFrame'>\n",
      "RangeIndex: 273 entries, 0 to 272\n",
      "Data columns (total 8 columns):\n",
      " #   Column   Non-Null Count  Dtype\n",
      "---  ------   --------------  -----\n",
      " 0   age      273 non-null    int64\n",
      " 1   sex      273 non-null    int64\n",
      " 2   cp       273 non-null    int64\n",
      " 3   trtbps   273 non-null    int64\n",
      " 4   chol     273 non-null    int64\n",
      " 5   restecg  273 non-null    int64\n",
      " 6   thalach  273 non-null    int64\n",
      " 7   output   273 non-null    int64\n",
      "dtypes: int64(8)\n",
      "memory usage: 17.2 KB\n"
     ]
    },
    {
     "data": {
      "text/plain": [
       "              age         sex          cp      trtbps        chol     restecg  \\\n",
       "count  273.000000  273.000000  273.000000  273.000000  273.000000  273.000000   \n",
       "mean    54.347985    0.673993    0.974359  132.098901  246.860806    0.538462   \n",
       "std      9.163134    0.469611    1.030456   17.700358   52.569726    0.528059   \n",
       "min     29.000000    0.000000    0.000000   94.000000  126.000000    0.000000   \n",
       "25%     47.000000    0.000000    0.000000  120.000000  211.000000    0.000000   \n",
       "50%     56.000000    1.000000    1.000000  130.000000  240.000000    1.000000   \n",
       "75%     61.000000    1.000000    2.000000  140.000000  275.000000    1.000000   \n",
       "max     77.000000    1.000000    3.000000  200.000000  564.000000    2.000000   \n",
       "\n",
       "          thalach      output  \n",
       "count  273.000000  273.000000  \n",
       "mean   149.446886    0.534799  \n",
       "std     23.240707    0.499704  \n",
       "min     71.000000    0.000000  \n",
       "25%    133.000000    0.000000  \n",
       "50%    152.000000    1.000000  \n",
       "75%    166.000000    1.000000  \n",
       "max    202.000000    1.000000  "
      ],
      "text/html": [
       "<div>\n",
       "<style scoped>\n",
       "    .dataframe tbody tr th:only-of-type {\n",
       "        vertical-align: middle;\n",
       "    }\n",
       "\n",
       "    .dataframe tbody tr th {\n",
       "        vertical-align: top;\n",
       "    }\n",
       "\n",
       "    .dataframe thead th {\n",
       "        text-align: right;\n",
       "    }\n",
       "</style>\n",
       "<table border=\"1\" class=\"dataframe\">\n",
       "  <thead>\n",
       "    <tr style=\"text-align: right;\">\n",
       "      <th></th>\n",
       "      <th>age</th>\n",
       "      <th>sex</th>\n",
       "      <th>cp</th>\n",
       "      <th>trtbps</th>\n",
       "      <th>chol</th>\n",
       "      <th>restecg</th>\n",
       "      <th>thalach</th>\n",
       "      <th>output</th>\n",
       "    </tr>\n",
       "  </thead>\n",
       "  <tbody>\n",
       "    <tr>\n",
       "      <th>count</th>\n",
       "      <td>273.000000</td>\n",
       "      <td>273.000000</td>\n",
       "      <td>273.000000</td>\n",
       "      <td>273.000000</td>\n",
       "      <td>273.000000</td>\n",
       "      <td>273.000000</td>\n",
       "      <td>273.000000</td>\n",
       "      <td>273.000000</td>\n",
       "    </tr>\n",
       "    <tr>\n",
       "      <th>mean</th>\n",
       "      <td>54.347985</td>\n",
       "      <td>0.673993</td>\n",
       "      <td>0.974359</td>\n",
       "      <td>132.098901</td>\n",
       "      <td>246.860806</td>\n",
       "      <td>0.538462</td>\n",
       "      <td>149.446886</td>\n",
       "      <td>0.534799</td>\n",
       "    </tr>\n",
       "    <tr>\n",
       "      <th>std</th>\n",
       "      <td>9.163134</td>\n",
       "      <td>0.469611</td>\n",
       "      <td>1.030456</td>\n",
       "      <td>17.700358</td>\n",
       "      <td>52.569726</td>\n",
       "      <td>0.528059</td>\n",
       "      <td>23.240707</td>\n",
       "      <td>0.499704</td>\n",
       "    </tr>\n",
       "    <tr>\n",
       "      <th>min</th>\n",
       "      <td>29.000000</td>\n",
       "      <td>0.000000</td>\n",
       "      <td>0.000000</td>\n",
       "      <td>94.000000</td>\n",
       "      <td>126.000000</td>\n",
       "      <td>0.000000</td>\n",
       "      <td>71.000000</td>\n",
       "      <td>0.000000</td>\n",
       "    </tr>\n",
       "    <tr>\n",
       "      <th>25%</th>\n",
       "      <td>47.000000</td>\n",
       "      <td>0.000000</td>\n",
       "      <td>0.000000</td>\n",
       "      <td>120.000000</td>\n",
       "      <td>211.000000</td>\n",
       "      <td>0.000000</td>\n",
       "      <td>133.000000</td>\n",
       "      <td>0.000000</td>\n",
       "    </tr>\n",
       "    <tr>\n",
       "      <th>50%</th>\n",
       "      <td>56.000000</td>\n",
       "      <td>1.000000</td>\n",
       "      <td>1.000000</td>\n",
       "      <td>130.000000</td>\n",
       "      <td>240.000000</td>\n",
       "      <td>1.000000</td>\n",
       "      <td>152.000000</td>\n",
       "      <td>1.000000</td>\n",
       "    </tr>\n",
       "    <tr>\n",
       "      <th>75%</th>\n",
       "      <td>61.000000</td>\n",
       "      <td>1.000000</td>\n",
       "      <td>2.000000</td>\n",
       "      <td>140.000000</td>\n",
       "      <td>275.000000</td>\n",
       "      <td>1.000000</td>\n",
       "      <td>166.000000</td>\n",
       "      <td>1.000000</td>\n",
       "    </tr>\n",
       "    <tr>\n",
       "      <th>max</th>\n",
       "      <td>77.000000</td>\n",
       "      <td>1.000000</td>\n",
       "      <td>3.000000</td>\n",
       "      <td>200.000000</td>\n",
       "      <td>564.000000</td>\n",
       "      <td>2.000000</td>\n",
       "      <td>202.000000</td>\n",
       "      <td>1.000000</td>\n",
       "    </tr>\n",
       "  </tbody>\n",
       "</table>\n",
       "</div>"
      ]
     },
     "execution_count": 47,
     "metadata": {},
     "output_type": "execute_result"
    }
   ],
   "execution_count": 47
  },
  {
   "metadata": {},
   "cell_type": "markdown",
   "source": "## Part One: Fitting Models",
   "id": "a2725b14357bfbe9"
  },
  {
   "metadata": {
    "ExecuteTime": {
     "end_time": "2024-11-27T23:29:40.047350Z",
     "start_time": "2024-11-27T23:29:40.036972Z"
    }
   },
   "cell_type": "code",
   "source": [
    "# Import necessary libraries\n",
    "from sklearn.model_selection import StratifiedKFold\n",
    "from sklearn.compose import ColumnTransformer\n",
    "from sklearn.pipeline import Pipeline\n",
    "from sklearn.preprocessing import StandardScaler, OneHotEncoder\n",
    "\n",
    "# Define X and y\n",
    "X = ha.drop(columns=['output'])\n",
    "y = ha['output']\n",
    "\n",
    "# Define numerical and categorical columns\n",
    "numerical_columns = ['age', 'trtbps', 'chol', 'thalach']\n",
    "binary_columns = ['sex']  # No need for one-hot encoding\n",
    "categorical_columns = ['cp', 'restecg']  # Multiclass categories\n",
    "\n",
    "# Define a column transformer\n",
    "preprocessor = ColumnTransformer(\n",
    "    transformers=[\n",
    "        ('num', Pipeline(steps=[\n",
    "            ('scaler', StandardScaler())  # Scale numerical features\n",
    "        ]), numerical_columns),\n",
    "        ('binary', 'passthrough', binary_columns),  # Pass through binary features as is\n",
    "        ('cat', Pipeline(steps=[\n",
    "            ('onehot', OneHotEncoder(handle_unknown='ignore', sparse_output=False))  # One-hot encode multiclass categories\n",
    "        ]), categorical_columns)\n",
    "    ]\n",
    ").set_output(transform=\"pandas\")\n",
    "\n",
    "# Initialize Stratified Cross-Validation\n",
    "cv = StratifiedKFold(n_splits=5, shuffle=True, random_state=42)"
   ],
   "id": "839420b67233d76b",
   "outputs": [],
   "execution_count": 48
  },
  {
   "metadata": {},
   "cell_type": "markdown",
   "source": [
    "### Q1: KNN\n",
    "Find the best KNN model and report cross-validated ROC AUC."
   ],
   "id": "4daf863234afde2f"
  },
  {
   "metadata": {
    "ExecuteTime": {
     "end_time": "2024-11-27T23:29:42.135439Z",
     "start_time": "2024-11-27T23:29:40.374966Z"
    }
   },
   "cell_type": "code",
   "source": [
    "from sklearn.neighbors import KNeighborsClassifier\n",
    "\n",
    "# Define KNN pipeline\n",
    "knn_pipeline = Pipeline([\n",
    "    ('preprocessor', preprocessor),\n",
    "    ('knn', KNeighborsClassifier())\n",
    "])\n",
    "\n",
    "# Define hyperparameter grid\n",
    "knn_param_grid = {'knn__n_neighbors': range(1, 20)}\n",
    "\n",
    "# Perform grid search with StratifiedKFold\n",
    "knn_grid_search = GridSearchCV(knn_pipeline, knn_param_grid, cv=cv, scoring='roc_auc')\n",
    "knn_grid_search.fit(X, y)\n",
    "\n",
    "# Best model and cross-validated ROC AUC\n",
    "print(\"Best parameters for KNN:\", knn_grid_search.best_params_)\n",
    "print(\"Best cross-validated ROC AUC for KNN:\", knn_grid_search.best_score_)\n",
    "\n",
    "# Confusion matrix for the best model\n",
    "best_knn_model = knn_grid_search.best_estimator_\n",
    "y_pred = best_knn_model.predict(X)\n",
    "print(\"Confusion Matrix for KNN:\\n\", confusion_matrix(y, y_pred))"
   ],
   "id": "b90137826aecdd0a",
   "outputs": [
    {
     "name": "stdout",
     "output_type": "stream",
     "text": [
      "Best parameters for KNN: {'knn__n_neighbors': 12}\n",
      "Best cross-validated ROC AUC for KNN: 0.8150019451812556\n",
      "Confusion Matrix for KNN:\n",
      " [[106  21]\n",
      " [ 41 105]]\n"
     ]
    }
   ],
   "execution_count": 49
  },
  {
   "metadata": {},
   "cell_type": "markdown",
   "source": [
    "### Q2: Logistic Regression\n",
    "Find the best Logistic Regression model and report cross-validated ROC AUC."
   ],
   "id": "6b94bf439d5a8028"
  },
  {
   "metadata": {
    "ExecuteTime": {
     "end_time": "2024-11-27T23:29:42.902107Z",
     "start_time": "2024-11-27T23:29:42.183353Z"
    }
   },
   "cell_type": "code",
   "source": [
    "from sklearn.linear_model import LogisticRegression\n",
    "\n",
    "# Define Logistic Regression pipeline\n",
    "logreg_pipeline = Pipeline([\n",
    "    ('preprocessor', preprocessor),\n",
    "    ('logreg', LogisticRegression(max_iter=1000))\n",
    "])\n",
    "\n",
    "# Define hyperparameter grid\n",
    "logreg_param_grid = {'logreg__C': np.logspace(-3, 3, 7)}\n",
    "\n",
    "# Perform grid search with StratifiedKFold\n",
    "logreg_grid_search = GridSearchCV(logreg_pipeline, logreg_param_grid, cv=cv, scoring='roc_auc')\n",
    "logreg_grid_search.fit(X, y)\n",
    "\n",
    "# Best model and cross-validated ROC AUC\n",
    "print(\"Best parameters for Logistic Regression:\", logreg_grid_search.best_params_)\n",
    "print(\"Best cross-validated ROC AUC for Logistic Regression:\", logreg_grid_search.best_score_)\n",
    "\n",
    "# Confusion matrix for the best model\n",
    "best_logreg_model = logreg_grid_search.best_estimator_\n",
    "y_pred = best_logreg_model.predict(X)\n",
    "print(\"Confusion Matrix for Logistic Regression:\\n\", confusion_matrix(y, y_pred))"
   ],
   "id": "148ee75722a65ea7",
   "outputs": [
    {
     "name": "stdout",
     "output_type": "stream",
     "text": [
      "Best parameters for Logistic Regression: {'logreg__C': np.float64(1.0)}\n",
      "Best cross-validated ROC AUC for Logistic Regression: 0.8578687886825819\n",
      "Confusion Matrix for Logistic Regression:\n",
      " [[ 95  32]\n",
      " [ 23 123]]\n"
     ]
    }
   ],
   "execution_count": 50
  },
  {
   "metadata": {},
   "cell_type": "markdown",
   "source": [
    "### Q3: Decision Tree\n",
    "Find the best Decision Tree model and report cross-validated ROC AUC."
   ],
   "id": "167119ac675b1b6"
  },
  {
   "metadata": {
    "ExecuteTime": {
     "end_time": "2024-11-27T23:29:44.331215Z",
     "start_time": "2024-11-27T23:29:43.420452Z"
    }
   },
   "cell_type": "code",
   "source": [
    "from sklearn.tree import DecisionTreeClassifier\n",
    "\n",
    "# Define numerical and categorical columns\n",
    "numerical_columns = ['age', 'trtbps', 'chol', 'thalach']\n",
    "categorical_columns = ['sex', 'cp', 'restecg']  # Include binary and multiclass categories\n",
    "\n",
    "# Define a simplified column transformer for tree-based models\n",
    "tree_preprocessor = ColumnTransformer(\n",
    "    transformers=[\n",
    "        ('num', 'passthrough', numerical_columns),  # Pass numerical features as-is\n",
    "        ('cat', 'passthrough', categorical_columns)  # Pass categorical features as-is\n",
    "    ]\n",
    ").set_output(transform=\"pandas\")\n",
    "\n",
    "# Define Decision Tree pipeline\n",
    "tree_pipeline = Pipeline([\n",
    "    ('preprocessor', tree_preprocessor),\n",
    "    ('tree', DecisionTreeClassifier())\n",
    "])\n",
    "\n",
    "# Define hyperparameter grid\n",
    "tree_param_grid = {'tree__max_depth': range(1, 20)}\n",
    "\n",
    "# Perform grid search with StratifiedKFold\n",
    "tree_grid_search = GridSearchCV(tree_pipeline, tree_param_grid, cv=cv, scoring='roc_auc')\n",
    "tree_grid_search.fit(X, y)\n",
    "\n",
    "# Best model and cross-validated ROC AUC\n",
    "print(\"Best parameters for Decision Tree:\", tree_grid_search.best_params_)\n",
    "print(\"Best cross-validated ROC AUC for Decision Tree:\", tree_grid_search.best_score_)\n",
    "\n",
    "# Confusion matrix for the best model\n",
    "best_tree_model = tree_grid_search.best_estimator_\n",
    "y_pred = best_tree_model.predict(X)\n",
    "print(\"Confusion Matrix for Decision Tree:\\n\", confusion_matrix(y, y_pred))"
   ],
   "id": "794e192640c8ab7f",
   "outputs": [
    {
     "name": "stdout",
     "output_type": "stream",
     "text": [
      "Best parameters for Decision Tree: {'tree__max_depth': 3}\n",
      "Best cross-validated ROC AUC for Decision Tree: 0.8008926613616267\n",
      "Confusion Matrix for Decision Tree:\n",
      " [[101  26]\n",
      " [ 26 120]]\n"
     ]
    }
   ],
   "execution_count": 51
  },
  {
   "metadata": {},
   "cell_type": "markdown",
   "source": [
    "### Q4: Interpretation\n",
    "To determine which predictors were most important for predicting heart attack risk, we can use:\n",
    "\n",
    "1. **KNN**: Permutation importance.\n",
    "2. **Logistic Regression**: Coefficients (weights).\n",
    "3. **Decision Tree**: Feature importances directly."
   ],
   "id": "5be636ece46371bf"
  },
  {
   "metadata": {
    "ExecuteTime": {
     "end_time": "2024-11-27T23:29:45.523773Z",
     "start_time": "2024-11-27T23:29:44.823915Z"
    }
   },
   "cell_type": "code",
   "source": [
    "from sklearn.inspection import permutation_importance\n",
    "\n",
    "# Fit the pipeline and extract transformed feature names\n",
    "best_knn_model.fit(X, y)\n",
    "\n",
    "# Permutation importance\n",
    "knn_importance = permutation_importance(best_knn_model, X, y, scoring='roc_auc', n_repeats=10, random_state=42)\n",
    "\n",
    "# Display feature importance\n",
    "knn_importance_df = pd.DataFrame({\n",
    "    \"Feature\": X.columns,  # Use pandas column names from transformed data\n",
    "    \"Importance\": knn_importance.importances_mean\n",
    "}).sort_values(by=\"Importance\", ascending=False)\n",
    "\n",
    "print(\"KNN Feature Importance:\")\n",
    "print(knn_importance_df)"
   ],
   "id": "84aba6a35c373860",
   "outputs": [
    {
     "name": "stdout",
     "output_type": "stream",
     "text": [
      "KNN Feature Importance:\n",
      "   Feature  Importance\n",
      "6  thalach    0.086191\n",
      "2       cp    0.084611\n",
      "1      sex    0.030695\n",
      "0      age    0.030021\n",
      "3   trtbps    0.013440\n",
      "4     chol    0.009074\n",
      "5  restecg    0.006172\n"
     ]
    }
   ],
   "execution_count": 52
  },
  {
   "metadata": {
    "ExecuteTime": {
     "end_time": "2024-11-27T23:29:46.051121Z",
     "start_time": "2024-11-27T23:29:46.033667Z"
    }
   },
   "cell_type": "code",
   "source": [
    "transformed_X = best_logreg_model.named_steps['preprocessor'].transform(X)\n",
    "# Extract coefficients and feature names\n",
    "logreg_coef = pd.Series(\n",
    "    best_logreg_model.named_steps['logreg'].coef_.flatten(),\n",
    "    index=transformed_X.columns\n",
    ")\n",
    "\n",
    "# Sort and display\n",
    "print(\"\\nLogistic Regression Feature Importance:\")\n",
    "print(abs(logreg_coef).sort_values(ascending=False))"
   ],
   "id": "6d4cdb9bd57ef27",
   "outputs": [
    {
     "name": "stdout",
     "output_type": "stream",
     "text": [
      "\n",
      "Logistic Regression Feature Importance:\n",
      "binary__sex       1.861272\n",
      "cat__cp_0         1.386929\n",
      "num__thalach      0.750001\n",
      "cat__cp_1         0.604197\n",
      "cat__cp_2         0.485368\n",
      "num__trtbps       0.316501\n",
      "cat__cp_3         0.299432\n",
      "cat__restecg_1    0.289283\n",
      "num__chol         0.257636\n",
      "cat__restecg_2    0.241299\n",
      "num__age          0.223183\n",
      "cat__restecg_0    0.045916\n",
      "dtype: float64\n"
     ]
    }
   ],
   "execution_count": 53
  },
  {
   "metadata": {
    "ExecuteTime": {
     "end_time": "2024-11-27T23:29:46.831322Z",
     "start_time": "2024-11-27T23:29:46.819388Z"
    }
   },
   "cell_type": "code",
   "source": [
    "# Extract feature importances from the tree\n",
    "transformed_X = best_tree_model.named_steps['preprocessor'].transform(X)\n",
    "tree_importances = pd.Series(\n",
    "    best_tree_model.named_steps['tree'].feature_importances_,\n",
    "    index=transformed_X.columns\n",
    ")\n",
    "\n",
    "# Sort and display\n",
    "print(\"\\nDecision Tree Feature Importance:\")\n",
    "print(tree_importances.sort_values(ascending=False))"
   ],
   "id": "a2dcd84beb54baa0",
   "outputs": [
    {
     "name": "stdout",
     "output_type": "stream",
     "text": [
      "\n",
      "Decision Tree Feature Importance:\n",
      "cat__cp         0.564630\n",
      "num__age        0.151122\n",
      "num__thalach    0.112866\n",
      "cat__sex        0.099147\n",
      "num__trtbps     0.072235\n",
      "num__chol       0.000000\n",
      "cat__restecg    0.000000\n",
      "dtype: float64\n"
     ]
    }
   ],
   "execution_count": 54
  },
  {
   "metadata": {},
   "cell_type": "markdown",
   "source": [
    "The feature importance results from the KNN model indicate that `thalach` (maximum heart rate achieved during exercise) is the most influential predictor, followed closely by `cp` (chest pain type). These features demonstrate strong relationships with heart attack risk as identified by the model's reliance on distance metrics, which prioritize features with higher variability or stronger signals. Other predictors, such as `sex` and `age`, exhibit moderate importance, while `trtbps` (resting blood pressure), `chol` (cholesterol levels), and `restecg` (resting electrocardiographic results) have minimal impact. This suggests that KNN primarily captures patterns associated with dynamic exercise-induced physiological responses rather than static clinical measures.\n",
    "\n",
    "In logistic regression, the magnitude of coefficients underscores the importance of `sex` and chest pain categories. `sex` has the highest coefficient magnitude, indicating a significant impact on heart attack risk. Among chest pain types, asymptomatic pain (`cp_0`) and typical angina (`cp_1`) are particularly important, followed by other subtypes. The numerical predictor `thalach` also ranks highly, reinforcing its relevance across models. Meanwhile, features such as `trtbps`, `chol`, and `age` exhibit moderate importance, reflecting their steady but less dominant influence. The categorical variables from `restecg` (resting electrocardiographic results) play a smaller role, consistent with their weaker signal in the dataset.\n",
    "\n",
    "The decision tree model emphasizes `cp` as the most critical predictor, capturing over half of the total feature importance. This aligns with the tree’s capacity to partition the data effectively based on chest pain type, which appears to be a strong categorical discriminator. Among numerical features, `age` and `thalach` rank next in importance, while `sex` provides a smaller but meaningful contribution. Interestingly, `chol` and `restecg` have no importance in the tree model, suggesting that these variables do not enhance the tree’s ability to reduce impurity during splits. This highlights the decision tree's reliance on features with clear, threshold-based splits over those with subtler or more continuous effects."
   ],
   "id": "f85ac3f10e9f1e26"
  },
  {
   "metadata": {},
   "cell_type": "markdown",
   "source": [
    "### Q5: ROC Curve\n",
    "\n",
    "Plot the ROC Curve for your three models above."
   ],
   "id": "18936499a2525804"
  },
  {
   "metadata": {
    "ExecuteTime": {
     "end_time": "2024-11-27T23:29:47.611112Z",
     "start_time": "2024-11-27T23:29:47.307560Z"
    }
   },
   "cell_type": "code",
   "source": [
    "# Prepare data for ROC curves\n",
    "roc_data = []\n",
    "\n",
    "models = [best_knn_model, best_logreg_model, best_tree_model]\n",
    "model_names = ['KNN', 'Logistic Regression', 'Decision Tree']\n",
    "\n",
    "for model, name in zip(models, model_names):\n",
    "    y_pred_prob = model.predict_proba(X)[:, 1]  # Probabilities for class 1\n",
    "    fpr, tpr, _ = roc_curve(y, y_pred_prob)\n",
    "    roc_auc = auc(fpr, tpr)\n",
    "    roc_data.append(pd.DataFrame({\n",
    "        'False Positive Rate': fpr,\n",
    "        'True Positive Rate': tpr,\n",
    "        'Model': name,\n",
    "        'AUC': roc_auc\n",
    "    }))\n",
    "\n",
    "# Combine all ROC data\n",
    "roc_df = pd.concat(roc_data)\n",
    "\n",
    "# Plot the ROC Curve using plotnine\n",
    "roc_plot = (\n",
    "    ggplot(roc_df, aes(x='False Positive Rate', y='True Positive Rate', color='Model')) +\n",
    "    geom_line(size=1) +\n",
    "    geom_abline(slope=1, intercept=0, linetype='dashed', color='gray') +  # Random guess line\n",
    "    labs(\n",
    "        title='ROC Curve Comparison',\n",
    "        x='False Positive Rate',\n",
    "        y='True Positive Rate',\n",
    "        color='Model'\n",
    "    ) +\n",
    "    theme_minimal() +\n",
    "    scale_color_manual(values=[\"#ff69b4\", \"#9370db\", \"#1e90ff\"])  # Pink, Purple, Blue\n",
    ")\n",
    "\n",
    "print(roc_plot)"
   ],
   "id": "a3485d8a60ce0580",
   "outputs": [
    {
     "data": {
      "text/plain": [
       "<Figure size 640x480 with 1 Axes>"
      ],
      "image/png": "[encoded data removed]"
     },
     "metadata": {
      "image/png": {
       "width": 640,
       "height": 480
      },
      "needs_background": "light"
     },
     "output_type": "display_data"
    },
    {
     "name": "stdout",
     "output_type": "stream",
     "text": [
      "\n"
     ]
    }
   ],
   "execution_count": 55
  },
  {
   "metadata": {},
   "cell_type": "markdown",
   "source": [
    "# Part Two: Metrics\n",
    "\n",
    "Consider the following metrics:\n",
    "\n",
    "- True Positive Rate or Recall or Sensitivity = Of the observations that are truly Class A, how many were predicted to be Class A?\n",
    "\n",
    "- Precision or Positive Predictive Value = Of all the observations classified as Class A, how many of them were truly from Class A?\n",
    "\n",
    "- True Negative Rate or Specificity or Negative Predictive Value = Of all the observations classified as NOT Class A, how many were truly NOT Class A?\n",
    "\n",
    "---\n",
    "Compute each of these metrics (cross-validated) for your three models (KNN, Logistic Regression, and Decision Tree) in Part One."
   ],
   "id": "def057afd7ab605c"
  },
  {
   "metadata": {
    "ExecuteTime": {
     "end_time": "2024-11-27T23:29:48.325966Z",
     "start_time": "2024-11-27T23:29:48.087855Z"
    }
   },
   "cell_type": "code",
   "source": [
    "# Function to compute cross-validated metrics\n",
    "def compute_metrics_cv(model, X, y, cv):\n",
    "    # Perform cross-validated predictions\n",
    "    y_pred = cross_val_predict(model, X, y, cv=cv)\n",
    "    \n",
    "    # Compute confusion matrix\n",
    "    cm = confusion_matrix(y, y_pred)\n",
    "    tn, fp, fn, tp = cm.ravel()\n",
    "    \n",
    "    # Compute metrics\n",
    "    sensitivity = recall_score(y, y_pred)  # Recall or True Positive Rate\n",
    "    precision = precision_score(y, y_pred)  # Positive Predictive Value\n",
    "    specificity = tn / (tn + fp)  # True Negative Rate\n",
    "    \n",
    "    return sensitivity, precision, specificity\n",
    "\n",
    "# Models\n",
    "models = [best_knn_model, best_logreg_model, best_tree_model]\n",
    "model_names = ['KNN', 'Logistic Regression', 'Decision Tree']\n",
    "\n",
    "# Compute and display metrics for each model\n",
    "for model, name in zip(models, model_names):\n",
    "    sensitivity, precision, specificity = compute_metrics_cv(model, X, y, cv)\n",
    "    print(f\"{name} Metrics:\")\n",
    "    print(f\"  Sensitivity (Recall): {sensitivity:.4f}\")\n",
    "    print(f\"  Precision: {precision:.4f}\")\n",
    "    print(f\"  Specificity: {specificity:.4f}\\n\")"
   ],
   "id": "e35156d7f74a0332",
   "outputs": [
    {
     "name": "stdout",
     "output_type": "stream",
     "text": [
      "KNN Metrics:\n",
      "  Sensitivity (Recall): 0.6438\n",
      "  Precision: 0.8034\n",
      "  Specificity: 0.8189\n",
      "\n",
      "Logistic Regression Metrics:\n",
      "  Sensitivity (Recall): 0.8219\n",
      "  Precision: 0.7742\n",
      "  Specificity: 0.7244\n",
      "\n",
      "Decision Tree Metrics:\n",
      "  Sensitivity (Recall): 0.6781\n",
      "  Precision: 0.7857\n",
      "  Specificity: 0.7874\n",
      "\n"
     ]
    }
   ],
   "execution_count": 56
  },
  {
   "metadata": {},
   "cell_type": "markdown",
   "source": [
    "The KNN model shows moderate performance, with a strong **specificity** (0.8189) and high **precision** (0.8034), indicating it is effective at correctly identifying negative cases and minimizing false positives. However, its lower **sensitivity** (0.6438) suggests it struggles to identify true positives, which could be problematic in high-risk scenarios.\n",
    "\n",
    "The Logistic Regression model excels in **sensitivity** (0.8219), making it the best at detecting true positives among the models. However, it has lower **specificity** (0.7244), which means it generates more false positives compared to KNN and the Decision Tree. Its **precision** (0.7742) balances its ability to correctly classify positives.\n",
    "\n",
    "The Decision Tree model balances **specificity** (0.7874) and **precision** (0.7857), performing similarly to KNN in these metrics. Its **sensitivity** (0.6781) is slightly better than KNN but not as high as Logistic Regression, indicating a more balanced but less specialized performance."
   ],
   "id": "44c0a2e138921c9"
  },
  {
   "metadata": {},
   "cell_type": "markdown",
   "source": [
    "# Part Three: Discussion\n",
    "Suppose you have been hired by a hospital to create classification models for heart attack risk.\n",
    "\n",
    "The following questions give a possible scenario for why the hospital is interested in these models. For each one, discuss:\n",
    "\n",
    "- Which metric(s) you would use for model selection and why.\n",
    "\n",
    "- Which of your final models (Part One Q1-3) you would recommend to the hospital, and why.\n",
    "\n",
    "- What score you should expect for your chosen metric(s) using your chosen model to predict future observations."
   ],
   "id": "3ce7d2a08bb896d9"
  },
  {
   "metadata": {},
   "cell_type": "markdown",
   "source": [
    "### Q1\n",
    "The hospital faces severe lawsuits if they deem a patient to be low risk, and that patient later experiences a heart attack."
   ],
   "id": "8a2ac03e207b8501"
  },
  {
   "metadata": {},
   "cell_type": "markdown",
   "source": [
    "Metric(s): Sensitivity (Recall) is the most critical metric since it measures the proportion of true positives (high-risk patients) that the model correctly identifies. Missing a high-risk patient could lead to severe consequences, so false negatives must be minimized.\n",
    "\n",
    "Recommended Model: Logistic Regression is the best choice due to its high sensitivity (0.8219), which ensures most high-risk patients are identified.\n",
    "\n",
    "Expected Score: With Logistic Regression, sensitivity is expected to be around 0.82 for future predictions, though specificity and precision may be lower due to the trade-off of reducing false negatives."
   ],
   "id": "890d57768f0103e8"
  },
  {
   "metadata": {},
   "cell_type": "markdown",
   "source": [
    "### Q2\n",
    "The hospital is overfull, and wants to only use bed space for patients most in need of monitoring due to heart attack risk."
   ],
   "id": "6746f10f4ec65f7b"
  },
  {
   "metadata": {},
   "cell_type": "markdown",
   "source": [
    "Metric(s): Precision is key because the hospital wants to prioritize patients most likely to truly be high-risk. A higher precision ensures that a greater proportion of flagged high-risk patients genuinely require monitoring, minimizing unnecessary use of resources.\n",
    "\n",
    "Recommended Model: KNN is the best choice due to its high precision (0.8034), ensuring that flagged patients are highly likely to be genuinely at risk.\n",
    "\n",
    "Expected Score: Precision is expected to be around 0.80 for KNN, providing a strong ability to reduce false positives and optimize resource allocation effectively."
   ],
   "id": "2b1e90fc8e8c1420"
  },
  {
   "metadata": {},
   "cell_type": "markdown",
   "source": [
    "### Q3\n",
    "The hospital is studying root causes of heart attacks, and would like to understand which biological measures are associated with heart attack risk."
   ],
   "id": "a316690abb20779b"
  },
  {
   "metadata": {},
   "cell_type": "markdown",
   "source": [
    "Metric(s): Interpretability is critical here, so a model that allows for easy understanding of feature importance is essential. Logistic Regression, with its interpretable coefficients, is ideal for identifying significant predictors of heart attack risk.\n",
    "\n",
    "Recommended Model: Logistic Regression is the best choice, as its coefficients directly indicate the strength and direction of the relationship between predictors and heart attack risk.\n",
    "\n",
    "Expected Score: Sensitivity (0.8219) and precision (0.7742) reflect the model’s ability to accurately classify and explain the role of biological predictors like chest pain type (cp) and heart rate (thalach)."
   ],
   "id": "3b59d71a7fcf9f58"
  },
  {
   "metadata": {},
   "cell_type": "markdown",
   "source": [
    "### Q4\n",
    "The hospital is training a new batch of doctors, and they would like to compare the diagnoses of these doctors to the predictions given by the algorithm to measure the ability of new doctors to diagnose patients."
   ],
   "id": "3458c1d4c32ee423"
  },
  {
   "metadata": {},
   "cell_type": "markdown",
   "source": [
    "Metric(s): Overall performance balance, represented by metrics like specificity and precision, is important for a fair comparison between the model and new doctors. Specificity ensures accurate predictions for low-risk patients, while precision highlights correct positive classifications.\n",
    "\n",
    "Recommended Model: Decision Tree is a good choice due to its balanced sensitivity (0.6781), precision (0.7857), and specificity (0.7874). Additionally, its transparent structure makes it easy to explain to trainees.\n",
    "\n",
    "Expected Score: With the Decision Tree, specificity and precision are expected to be approximately 0.78, providing a balanced model for comparison and interpretability."
   ],
   "id": "61ed1020be66caf6"
  },
  {
   "metadata": {},
   "cell_type": "markdown",
   "source": "",
   "id": "8ed79b4370d58179"
  },
  {
   "metadata": {
    "ExecuteTime": {
     "end_time": "2024-11-27T23:29:50.597819Z",
     "start_time": "2024-11-27T23:29:48.818309Z"
    }
   },
   "cell_type": "code",
   "source": [
    "# Load the validation dataset\n",
    "ha_validation = pd.read_csv(\"https://www.dropbox.com/s/jkwqdiyx6o6oad0/heart_attack_validation.csv?dl=1\")\n",
    "\n",
    "# Separate features and target variable\n",
    "X_val = ha_validation.drop(columns=['output'])\n",
    "y_val = ha_validation['output']\n",
    "\n",
    "# Function to evaluate models on the validation set\n",
    "def evaluate_model_on_validation(model, X_val, y_val):\n",
    "    # Predict probabilities and class labels\n",
    "    y_pred_prob = model.predict_proba(X_val)[:, 1]\n",
    "    y_pred = model.predict(X_val)\n",
    "    \n",
    "    # Calculate metrics\n",
    "    auc = roc_auc_score(y_val, y_pred_prob)\n",
    "    cm = confusion_matrix(y_val, y_pred)\n",
    "    precision = precision_score(y_val, y_pred)\n",
    "    recall = recall_score(y_val, y_pred)\n",
    "    \n",
    "    return auc, cm, precision, recall\n",
    "\n",
    "# Models and their names\n",
    "models = [best_knn_model, best_logreg_model, best_tree_model]\n",
    "model_names = ['KNN', 'Logistic Regression', 'Decision Tree']\n",
    "\n",
    "# Evaluate each model and display results\n",
    "for model, name in zip(models, model_names):\n",
    "    auc, cm, precision, recall = evaluate_model_on_validation(model, X_val, y_val)\n",
    "    print(f\"{name} Validation Metrics:\")\n",
    "    print(f\"  ROC AUC: {auc:.4f}\")\n",
    "    print(f\"  Confusion Matrix:\\n{cm}\")\n",
    "    print(f\"  Precision: {precision:.4f}\")\n",
    "    print(f\"  Recall (Sensitivity): {recall:.4f}\\n\")\n"
   ],
   "id": "51f9de82998c62f9",
   "outputs": [
    {
     "name": "stdout",
     "output_type": "stream",
     "text": [
      "KNN Validation Metrics:\n",
      "  ROC AUC: 0.7990\n",
      "  Confusion Matrix:\n",
      "[[ 9  2]\n",
      " [ 8 11]]\n",
      "  Precision: 0.8462\n",
      "  Recall (Sensitivity): 0.5789\n",
      "\n",
      "Logistic Regression Validation Metrics:\n",
      "  ROC AUC: 0.8995\n",
      "  Confusion Matrix:\n",
      "[[ 9  2]\n",
      " [ 5 14]]\n",
      "  Precision: 0.8750\n",
      "  Recall (Sensitivity): 0.7368\n",
      "\n",
      "Decision Tree Validation Metrics:\n",
      "  ROC AUC: 0.7775\n",
      "  Confusion Matrix:\n",
      "[[ 8  3]\n",
      " [ 7 12]]\n",
      "  Precision: 0.8000\n",
      "  Recall (Sensitivity): 0.6316\n",
      "\n"
     ]
    }
   ],
   "execution_count": 57
  },
  {
   "metadata": {},
   "cell_type": "markdown",
   "source": [
    "For **KNN**, the validation ROC AUC (0.7990) is slightly lower than its cross-validated score, but the decrease is modest, indicating reasonable generalization. However, its precision (0.8462) and recall (0.5789) diverge from the cross-validation estimates, showing that while it maintains its ability to minimize false positives, its sensitivity drops, making it less reliable in detecting true positives in the validation set.\n",
    "\n",
    "**Logistic Regression** demonstrates the strongest performance on the validation set, with an impressive ROC AUC (0.8995), closely matching its cross-validated estimate. Its precision (0.8750) and recall (0.7368) are consistent with its earlier performance, confirming its ability to balance sensitivity and specificity effectively. This suggests Logistic Regression generalizes well to unseen data and aligns closely with the cross-validated metrics, supporting its suitability for scenarios prioritizing high recall and interpretability.\n",
    "\n",
    "For the **Decision Tree**, the validation ROC AUC (0.7775) is close to its cross-validated score, indicating stable performance. Its precision (0.8000) and recall (0.6316) reflect a balanced approach but slightly lower sensitivity compared to cross-validation. This indicates that while the Decision Tree maintains its ability to identify true positives and avoid false positives, its generalization to unseen data is less robust than Logistic Regression. These results align with its tendency to overfit slightly to the training data due to its reliance on exact splits."
   ],
   "id": "eb060621890bfb50"
  },
  {
   "metadata": {},
   "cell_type": "markdown",
   "source": [
    "# Part Five: Cohen’s Kappa\n",
    "\n",
    "Another common metric used in classification is Cohen’s Kappa.\n",
    "\n",
    "Use online resources to research this measurement. Calculate it for the models from Part One, Q1-3, and discuss reasons or scenarios that would make us prefer to use this metric as our measure of model success. Do your conclusions from above change if you judge your models using Cohen’s Kappa instead? Does this make sense?"
   ],
   "id": "1bb1d63d0afeaaa5"
  },
  {
   "metadata": {},
   "cell_type": "markdown",
   "source": [
    "Sources used:\n",
    "- https://builtin.com/data-science/cohens-kappa\n",
    "- https://scikit-learn.org/dev/modules/generated/sklearn.metrics.cohen_kappa_score.html"
   ],
   "id": "573976019e124dc8"
  },
  {
   "metadata": {
    "ExecuteTime": {
     "end_time": "2024-11-27T23:29:51.124173Z",
     "start_time": "2024-11-27T23:29:51.093346Z"
    }
   },
   "cell_type": "code",
   "source": [
    "from sklearn.metrics import cohen_kappa_score\n",
    "\n",
    "# Function to compute Cohen's Kappa for a model\n",
    "def compute_cohens_kappa(model, X, y):\n",
    "    y_pred = model.predict(X)  # Predicted classes\n",
    "    return cohen_kappa_score(y, y_pred)\n",
    "\n",
    "# Calculate Cohen's Kappa for each model\n",
    "for model, name in zip(models, model_names):\n",
    "    kappa = compute_cohens_kappa(model, X_val, y_val)\n",
    "    print(f\"{name} Cohen's Kappa: {kappa:.4f}\")"
   ],
   "id": "cc15f083ff99aa6b",
   "outputs": [
    {
     "name": "stdout",
     "output_type": "stream",
     "text": [
      "KNN Cohen's Kappa: 0.3562\n",
      "Logistic Regression Cohen's Kappa: 0.5249\n",
      "Decision Tree Cohen's Kappa: 0.3333\n"
     ]
    }
   ],
   "execution_count": 58
  },
  {
   "metadata": {},
   "cell_type": "markdown",
   "source": [
    "Logistic Regression achieves the highest Kappa (0.5249), indicating moderate agreement with true labels and validating its strong overall performance observed in earlier metrics like ROC AUC and sensitivity. KNN and the Decision Tree have lower Kappa values (0.3562 and 0.3333, respectively), reflecting weaker agreement. This is consistent with their lower sensitivity and more limited ability to generalize effectively compared to Logistic Regression. The Decision Tree’s slightly lower Kappa than KNN suggests its performance is more heavily influenced by overfitting to the training data.\n",
    "\n",
    "Cohen’s Kappa is particularly useful in scenarios where class imbalance is present or when chance agreement could skew raw accuracy metrics. In this dataset, if the proportion of low-risk and high-risk patients were uneven( 1:146\n",
    "0:127), Kappa would provide a more meaningful assessment by correcting for the likelihood of random agreement. For healthcare applications, where false negatives and false positives have different consequences, Kappa ensures the evaluation reflects the model’s actual agreement with true classifications, rather than being biased by the dominant class.\n",
    "\n",
    "The conclusions remain consistent when using Cohen’s Kappa as a primary metric. Logistic Regression still emerges as the strongest model, balancing sensitivity, precision, and agreement with true labels. KNN and the Decision Tree perform less effectively, with Kappa values that align with their previously observed limitations in sensitivity and generalization. This consistency supports the validity of using Cohen’s Kappa to reinforce the earlier findings, while also highlighting its value as a robust metric for comparing models in settings where random agreement and class imbalance are concerns."
   ],
   "id": "fd0efcdeaea4afa2"
  }
 ],
 "metadata": {
  "kernelspec": {
   "display_name": "Python 3",
   "language": "python",
   "name": "python3"
  },
  "language_info": {
   "codemirror_mode": {
    "name": "ipython",
    "version": 2
   },
   "file_extension": ".py",
   "mimetype": "text/x-python",
   "name": "python",
   "nbconvert_exporter": "python",
   "pygments_lexer": "ipython2",
   "version": "2.7.6"
  }
 },
 "nbformat": 4,
 "nbformat_minor": 5
}
