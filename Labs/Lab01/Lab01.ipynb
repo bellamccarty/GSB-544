{
 "cells": [
  {
   "metadata": {},
   "cell_type": "raw",
   "source": [
    "---\n",
    "title: 'Lab 1: Gapminder Data Visualization'\n",
    "author: 'Isabella McCarty'\n",
    "format: \n",
    "    html:\n",
    "        theme: minty\n",
    "---"
   ],
   "id": "6ed5ac033f1190aa"
  },
  {
   "metadata": {
    "ExecuteTime": {
     "end_time": "2024-09-26T21:51:33.951420Z",
     "start_time": "2024-09-26T21:51:33.947654Z"
    }
   },
   "cell_type": "code",
   "source": [
    "import statsmodels.api as sm\n",
    "import pandas as pd\n",
    "from matplotlib.pyplot import xlabel\n",
    "from plotnine import ggplot, geom_point, aes, geom_boxplot, geom_histogram, geom_bar, geom_violin, geom_smooth"
   ],
   "id": "2a832f8041e8cd72",
   "outputs": [],
   "execution_count": 14
  },
  {
   "metadata": {},
   "cell_type": "markdown",
   "source": [
    "## Working with Data of Global Indicators - Gapminder\n",
    "\n",
    "\"Gapminder identifies systematic misconceptions about important global trends and proportions and uses reliable data to develop easy to understand teaching materials to rid people of their misconceptions.\"\n"
   ],
   "id": "ff4c6f0feba4e3cb"
  },
  {
   "metadata": {},
   "cell_type": "markdown",
   "source": [
    "## Task 1\n",
    "\n",
    "Below is a plot of a visualization in Gapminder (the default/starting one actually). Look it over and take note of the variables being visualized.\n",
    "\n",
    "\n",
    "<img src = \"gapminder_pic.png\">"
   ],
   "id": "1e35fb64d2413d2"
  },
  {
   "metadata": {},
   "cell_type": "markdown",
   "source": [
    "1. Identify, and list here, what aesthetics are being used and which variables are being mapped to each aesthetic.\n",
    "\n",
    "    - Income is being mapped to X.\n",
    "    - Life expectancy is being mapped to Y.\n",
    "    - Population is being mapped to size. \n",
    "    - Region is being mapped to fill/color.\n",
    "\n",
    "2. Import the q1data.csv dataset."
   ],
   "id": "b54ef59a881c2e37"
  },
  {
   "metadata": {
    "ExecuteTime": {
     "end_time": "2024-09-26T21:51:33.990702Z",
     "start_time": "2024-09-26T21:51:33.979436Z"
    }
   },
   "cell_type": "code",
   "source": [
    "q1data = pd.read_csv('Data/q1data.csv')\n",
    "q1data.head()"
   ],
   "id": "57843a6cb4296435",
   "outputs": [
    {
     "data": {
      "text/plain": [
       "    income  life_exp  population  year      country four_regions  \\\n",
       "0   1910.0      61.0  29200000.0  2010  Afghanistan         asia   \n",
       "1  11100.0      78.1   2950000.0  2010      Albania       europe   \n",
       "2  11100.0      74.7  36000000.0  2010      Algeria       africa   \n",
       "3  46900.0      81.9     84500.0  2010      Andorra       europe   \n",
       "4   7680.0      60.8  23400000.0  2010       Angola       africa   \n",
       "\n",
       "                six_regions       eight_regions           world_bank_region  \n",
       "0                south_asia           asia_west                  South Asia  \n",
       "1       europe_central_asia         europe_east       Europe & Central Asia  \n",
       "2  middle_east_north_africa        africa_north  Middle East & North Africa  \n",
       "3       europe_central_asia         europe_west       Europe & Central Asia  \n",
       "4        sub_saharan_africa  africa_sub_saharan          Sub-Saharan Africa  "
      ],
      "text/html": [
       "<div>\n",
       "<style scoped>\n",
       "    .dataframe tbody tr th:only-of-type {\n",
       "        vertical-align: middle;\n",
       "    }\n",
       "\n",
       "    .dataframe tbody tr th {\n",
       "        vertical-align: top;\n",
       "    }\n",
       "\n",
       "    .dataframe thead th {\n",
       "        text-align: right;\n",
       "    }\n",
       "</style>\n",
       "<table border=\"1\" class=\"dataframe\">\n",
       "  <thead>\n",
       "    <tr style=\"text-align: right;\">\n",
       "      <th></th>\n",
       "      <th>income</th>\n",
       "      <th>life_exp</th>\n",
       "      <th>population</th>\n",
       "      <th>year</th>\n",
       "      <th>country</th>\n",
       "      <th>four_regions</th>\n",
       "      <th>six_regions</th>\n",
       "      <th>eight_regions</th>\n",
       "      <th>world_bank_region</th>\n",
       "    </tr>\n",
       "  </thead>\n",
       "  <tbody>\n",
       "    <tr>\n",
       "      <th>0</th>\n",
       "      <td>1910.0</td>\n",
       "      <td>61.0</td>\n",
       "      <td>29200000.0</td>\n",
       "      <td>2010</td>\n",
       "      <td>Afghanistan</td>\n",
       "      <td>asia</td>\n",
       "      <td>south_asia</td>\n",
       "      <td>asia_west</td>\n",
       "      <td>South Asia</td>\n",
       "    </tr>\n",
       "    <tr>\n",
       "      <th>1</th>\n",
       "      <td>11100.0</td>\n",
       "      <td>78.1</td>\n",
       "      <td>2950000.0</td>\n",
       "      <td>2010</td>\n",
       "      <td>Albania</td>\n",
       "      <td>europe</td>\n",
       "      <td>europe_central_asia</td>\n",
       "      <td>europe_east</td>\n",
       "      <td>Europe &amp; Central Asia</td>\n",
       "    </tr>\n",
       "    <tr>\n",
       "      <th>2</th>\n",
       "      <td>11100.0</td>\n",
       "      <td>74.7</td>\n",
       "      <td>36000000.0</td>\n",
       "      <td>2010</td>\n",
       "      <td>Algeria</td>\n",
       "      <td>africa</td>\n",
       "      <td>middle_east_north_africa</td>\n",
       "      <td>africa_north</td>\n",
       "      <td>Middle East &amp; North Africa</td>\n",
       "    </tr>\n",
       "    <tr>\n",
       "      <th>3</th>\n",
       "      <td>46900.0</td>\n",
       "      <td>81.9</td>\n",
       "      <td>84500.0</td>\n",
       "      <td>2010</td>\n",
       "      <td>Andorra</td>\n",
       "      <td>europe</td>\n",
       "      <td>europe_central_asia</td>\n",
       "      <td>europe_west</td>\n",
       "      <td>Europe &amp; Central Asia</td>\n",
       "    </tr>\n",
       "    <tr>\n",
       "      <th>4</th>\n",
       "      <td>7680.0</td>\n",
       "      <td>60.8</td>\n",
       "      <td>23400000.0</td>\n",
       "      <td>2010</td>\n",
       "      <td>Angola</td>\n",
       "      <td>africa</td>\n",
       "      <td>sub_saharan_africa</td>\n",
       "      <td>africa_sub_saharan</td>\n",
       "      <td>Sub-Saharan Africa</td>\n",
       "    </tr>\n",
       "  </tbody>\n",
       "</table>\n",
       "</div>"
      ]
     },
     "execution_count": 15,
     "metadata": {},
     "output_type": "execute_result"
    }
   ],
   "execution_count": 15
  },
  {
   "metadata": {},
   "cell_type": "markdown",
   "source": "3. Recreate the plot as best you can using plotnine.",
   "id": "a905d47bf1c6488f"
  },
  {
   "metadata": {
    "ExecuteTime": {
     "end_time": "2024-09-26T22:04:34.781620Z",
     "start_time": "2024-09-26T22:04:34.767395Z"
    }
   },
   "cell_type": "code",
   "source": [
    "ggplot(q1data, aes(x='income', y='life_exp', size = \"population\", color = \"four_regions\")) + geom_point(xlabel = \"s\")\n",
    "       "
   ],
   "id": "9619064655212872",
   "outputs": [
    {
     "ename": "NameError",
     "evalue": "name 'xlabel' is not defined",
     "output_type": "error",
     "traceback": [
      "\u001B[1;31m---------------------------------------------------------------------------\u001B[0m",
      "\u001B[1;31mNameError\u001B[0m                                 Traceback (most recent call last)",
      "Cell \u001B[1;32mIn[24], line 1\u001B[0m\n\u001B[1;32m----> 1\u001B[0m ggplot(q1data, aes(x\u001B[38;5;241m=\u001B[39m\u001B[38;5;124m'\u001B[39m\u001B[38;5;124mincome\u001B[39m\u001B[38;5;124m'\u001B[39m, y\u001B[38;5;241m=\u001B[39m\u001B[38;5;124m'\u001B[39m\u001B[38;5;124mlife_exp\u001B[39m\u001B[38;5;124m'\u001B[39m, size \u001B[38;5;241m=\u001B[39m \u001B[38;5;124m\"\u001B[39m\u001B[38;5;124mpopulation\u001B[39m\u001B[38;5;124m\"\u001B[39m, color \u001B[38;5;241m=\u001B[39m \u001B[38;5;124m\"\u001B[39m\u001B[38;5;124mfour_regions\u001B[39m\u001B[38;5;124m\"\u001B[39m)) \u001B[38;5;241m+\u001B[39m geom_point(\u001B[43mxlabel\u001B[49m(\u001B[38;5;124m\"\u001B[39m\u001B[38;5;124mLife Expectancy\u001B[39m\u001B[38;5;124m\"\u001B[39m))\n",
      "\u001B[1;31mNameError\u001B[0m: name 'xlabel' is not defined"
     ]
    }
   ],
   "execution_count": 24
  },
  {
   "metadata": {},
   "cell_type": "code",
   "outputs": [],
   "execution_count": null,
   "source": "",
   "id": "8b4c374f199ccd93"
  }
 ],
 "metadata": {
  "kernelspec": {
   "display_name": "Python 3",
   "language": "python",
   "name": "python3"
  },
  "language_info": {
   "codemirror_mode": {
    "name": "ipython",
    "version": 2
   },
   "file_extension": ".py",
   "mimetype": "text/x-python",
   "name": "python",
   "nbconvert_exporter": "python",
   "pygments_lexer": "ipython2",
   "version": "2.7.6"
  }
 },
 "nbformat": 4,
 "nbformat_minor": 5
}
