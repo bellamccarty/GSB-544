{
 "nbformat": 4,
 "nbformat_minor": 0,
 "metadata": {
  "colab": {
   "provenance": []
  },
  "kernelspec": {
   "name": "python3",
   "display_name": "Python 3 (ipykernel)",
   "language": "python"
  },
  "language_info": {
   "name": "python"
  }
 },
 "cells": [
  {
   "metadata": {},
   "cell_type": "raw",
   "source": [
    "---\n",
    "title: 'Practice Activity 8.2: Penguin Classification'\n",
    "author: 'Isabella McCarty'\n",
    "embed-resources: true\n",
    "format: \n",
    "    html:\n",
    "        code-fold: true\n",
    "        theme: minty\n",
    "---"
   ]
  },
  {
   "cell_type": "markdown",
   "source": [
    "# Palmer Penguins Modeling\n",
    "\n",
    "Import the Palmer Penguins dataset and print out the first few rows.\n",
    "\n",
    "Suppose we want to predict `species` using the other variables in the dataset.\n",
    "\n",
    "**Dummify** all variables that require this."
   ],
   "metadata": {
    "id": "TxbDFsJARAMD"
   }
  },
  {
   "cell_type": "code",
   "metadata": {
    "id": "QV2uolyOQ65C",
    "ExecuteTime": {
     "end_time": "2024-11-16T02:46:24.232942Z",
     "start_time": "2024-11-16T02:46:24.229044Z"
    }
   },
   "source": [
    "# Code Here\n",
    "import pandas as pd\n",
    "import numpy as np\n",
    "import random\n",
    "from plotnine import *\n",
    "from palmerpenguins import load_penguins\n",
    "from sklearn.compose import ColumnTransformer\n",
    "from sklearn.linear_model import LinearRegression\n",
    "from sklearn.metrics import mean_squared_error, precision_score, recall_score, f1_score\n",
    "from sklearn.pipeline import Pipeline\n",
    "from sklearn.neighbors import KNeighborsClassifier\n",
    "from sklearn.preprocessing import StandardScaler, OneHotEncoder\n",
    "from sklearn.tree import DecisionTreeClassifier\n",
    "from sklearn.model_selection import train_test_split\n",
    "from sklearn.linear_model import LogisticRegression\n",
    "from sklearn.metrics import (\n",
    "    confusion_matrix, classification_report, roc_curve, auc\n",
    ")\n",
    "from sklearn.preprocessing import label_binarize\n",
    "from sklearn.metrics import roc_auc_score\n",
    "from sklearn.metrics import accuracy_score, precision_recall_fscore_support\n",
    "\n",
    "# Set seed for reproducibility\n",
    "np.random.seed(123)\n",
    "random.seed(123)"
   ],
   "outputs": [],
   "execution_count": 212
  },
  {
   "cell_type": "markdown",
   "source": [
    "Let's use the other variables to predict `species`. Prepare your data and fit the following models on the entire dataset:\n",
    "\n",
    "* Two kNN models (for different values of K)\n",
    "* Two decision tree models (for different complexities of trees)\n",
    "\n",
    "Compute the following, for each of your models, on test data. Keep in mind that you may need to stratify your creation of the training and test data.\n",
    "\n",
    "* Confusion matrix\n",
    "* Overall Accuracy\n",
    "* Precision, Recall, AUC, and F1-score for each species\n",
    "\n",
    "Create one ROC plot for the species of your choice."
   ],
   "metadata": {
    "id": "HecNBVAnRHod"
   }
  },
  {
   "cell_type": "code",
   "source": [
    "# Load dataset\n",
    "df = load_penguins()\n",
    "\n",
    "# Drop rows with missing values\n",
    "df = df.dropna()\n",
    "df.head()"
   ],
   "metadata": {
    "ExecuteTime": {
     "end_time": "2024-11-16T02:46:24.256526Z",
     "start_time": "2024-11-16T02:46:24.248463Z"
    }
   },
   "outputs": [
    {
     "data": {
      "text/plain": [
       "  species     island  bill_length_mm  bill_depth_mm  flipper_length_mm  \\\n",
       "0  Adelie  Torgersen            39.1           18.7              181.0   \n",
       "1  Adelie  Torgersen            39.5           17.4              186.0   \n",
       "2  Adelie  Torgersen            40.3           18.0              195.0   \n",
       "4  Adelie  Torgersen            36.7           19.3              193.0   \n",
       "5  Adelie  Torgersen            39.3           20.6              190.0   \n",
       "\n",
       "   body_mass_g     sex  year  \n",
       "0       3750.0    male  2007  \n",
       "1       3800.0  female  2007  \n",
       "2       3250.0  female  2007  \n",
       "4       3450.0  female  2007  \n",
       "5       3650.0    male  2007  "
      ],
      "text/html": [
       "<div>\n",
       "<style scoped>\n",
       "    .dataframe tbody tr th:only-of-type {\n",
       "        vertical-align: middle;\n",
       "    }\n",
       "\n",
       "    .dataframe tbody tr th {\n",
       "        vertical-align: top;\n",
       "    }\n",
       "\n",
       "    .dataframe thead th {\n",
       "        text-align: right;\n",
       "    }\n",
       "</style>\n",
       "<table border=\"1\" class=\"dataframe\">\n",
       "  <thead>\n",
       "    <tr style=\"text-align: right;\">\n",
       "      <th></th>\n",
       "      <th>species</th>\n",
       "      <th>island</th>\n",
       "      <th>bill_length_mm</th>\n",
       "      <th>bill_depth_mm</th>\n",
       "      <th>flipper_length_mm</th>\n",
       "      <th>body_mass_g</th>\n",
       "      <th>sex</th>\n",
       "      <th>year</th>\n",
       "    </tr>\n",
       "  </thead>\n",
       "  <tbody>\n",
       "    <tr>\n",
       "      <th>0</th>\n",
       "      <td>Adelie</td>\n",
       "      <td>Torgersen</td>\n",
       "      <td>39.1</td>\n",
       "      <td>18.7</td>\n",
       "      <td>181.0</td>\n",
       "      <td>3750.0</td>\n",
       "      <td>male</td>\n",
       "      <td>2007</td>\n",
       "    </tr>\n",
       "    <tr>\n",
       "      <th>1</th>\n",
       "      <td>Adelie</td>\n",
       "      <td>Torgersen</td>\n",
       "      <td>39.5</td>\n",
       "      <td>17.4</td>\n",
       "      <td>186.0</td>\n",
       "      <td>3800.0</td>\n",
       "      <td>female</td>\n",
       "      <td>2007</td>\n",
       "    </tr>\n",
       "    <tr>\n",
       "      <th>2</th>\n",
       "      <td>Adelie</td>\n",
       "      <td>Torgersen</td>\n",
       "      <td>40.3</td>\n",
       "      <td>18.0</td>\n",
       "      <td>195.0</td>\n",
       "      <td>3250.0</td>\n",
       "      <td>female</td>\n",
       "      <td>2007</td>\n",
       "    </tr>\n",
       "    <tr>\n",
       "      <th>4</th>\n",
       "      <td>Adelie</td>\n",
       "      <td>Torgersen</td>\n",
       "      <td>36.7</td>\n",
       "      <td>19.3</td>\n",
       "      <td>193.0</td>\n",
       "      <td>3450.0</td>\n",
       "      <td>female</td>\n",
       "      <td>2007</td>\n",
       "    </tr>\n",
       "    <tr>\n",
       "      <th>5</th>\n",
       "      <td>Adelie</td>\n",
       "      <td>Torgersen</td>\n",
       "      <td>39.3</td>\n",
       "      <td>20.6</td>\n",
       "      <td>190.0</td>\n",
       "      <td>3650.0</td>\n",
       "      <td>male</td>\n",
       "      <td>2007</td>\n",
       "    </tr>\n",
       "  </tbody>\n",
       "</table>\n",
       "</div>"
      ]
     },
     "execution_count": 213,
     "metadata": {},
     "output_type": "execute_result"
    }
   ],
   "execution_count": 213
  },
  {
   "metadata": {
    "ExecuteTime": {
     "end_time": "2024-11-16T02:46:24.460501Z",
     "start_time": "2024-11-16T02:46:24.455983Z"
    }
   },
   "cell_type": "code",
   "source": [
    "# Check Species Counts\n",
    "df.species.value_counts()"
   ],
   "outputs": [
    {
     "data": {
      "text/plain": [
       "species\n",
       "Adelie       146\n",
       "Gentoo       119\n",
       "Chinstrap     68\n",
       "Name: count, dtype: int64"
      ]
     },
     "execution_count": 214,
     "metadata": {},
     "output_type": "execute_result"
    }
   ],
   "execution_count": 214
  },
  {
   "metadata": {
    "ExecuteTime": {
     "end_time": "2024-11-16T02:46:24.514299Z",
     "start_time": "2024-11-16T02:46:24.509034Z"
    }
   },
   "cell_type": "code",
   "source": [
    "# Encode target variable `species` into numerical values for classification\n",
    "df['species'] = df['species'].astype('category').cat.codes  # 0, 1, 2 for the three species\n",
    "df.species.value_counts()"
   ],
   "outputs": [
    {
     "data": {
      "text/plain": [
       "species\n",
       "0    146\n",
       "2    119\n",
       "1     68\n",
       "Name: count, dtype: int64"
      ]
     },
     "execution_count": 215,
     "metadata": {},
     "output_type": "execute_result"
    }
   ],
   "execution_count": 215
  },
  {
   "metadata": {
    "id": "U1onRGJQR8T_",
    "ExecuteTime": {
     "end_time": "2024-11-16T02:46:24.637437Z",
     "start_time": "2024-11-16T02:46:24.631927Z"
    }
   },
   "cell_type": "code",
   "source": [
    "# Select features and target variable (species)\n",
    "X = df.drop(columns=['species'])\n",
    "y = df['species']\n",
    "\n",
    "# Preprocess categorical and numerical features\n",
    "categorical_features = ['island', 'sex', 'year']\n",
    "numeric_features = ['bill_length_mm', 'bill_depth_mm', 'flipper_length_mm', 'body_mass_g']\n",
    "\n",
    "preprocessor = ColumnTransformer(\n",
    "    transformers=[\n",
    "        ('num', StandardScaler(), numeric_features),\n",
    "        ('cat', OneHotEncoder(), categorical_features)\n",
    "    ]\n",
    ")\n",
    "\n",
    "# Split data into train and test sets\n",
    "X_train, X_test, y_train, y_test = train_test_split(\n",
    "    X, y, test_size=0.3, random_state=123, stratify=y\n",
    ")"
   ],
   "outputs": [],
   "execution_count": 216
  },
  {
   "metadata": {
    "ExecuteTime": {
     "end_time": "2024-11-16T02:46:24.768330Z",
     "start_time": "2024-11-16T02:46:24.733840Z"
    }
   },
   "cell_type": "code",
   "source": [
    "# kNN model 1\n",
    "knn1 = Pipeline([\n",
    "    ('preprocessor', preprocessor),\n",
    "    ('classifier', KNeighborsClassifier(n_neighbors=3))\n",
    "])\n",
    "knn1.fit(X_train, y_train)\n",
    "y_pred_knn1 = knn1.predict(X_test)\n",
    "\n",
    "# kNN model 2\n",
    "knn2 = Pipeline([\n",
    "    ('preprocessor', preprocessor),\n",
    "    ('classifier', KNeighborsClassifier(n_neighbors=5))\n",
    "])\n",
    "knn2.fit(X_train, y_train)\n",
    "y_pred_knn2 = knn2.predict(X_test)\n",
    "\n",
    "# Decision Tree model 1\n",
    "tree1 = Pipeline([\n",
    "    ('preprocessor', preprocessor),\n",
    "    ('classifier', DecisionTreeClassifier(max_depth=3))\n",
    "])\n",
    "tree1.fit(X_train, y_train)\n",
    "y_pred_tree1 = tree1.predict(X_test)\n",
    "\n",
    "# Decision Tree model 2\n",
    "tree2 = Pipeline([\n",
    "    ('preprocessor', preprocessor),\n",
    "    ('classifier', DecisionTreeClassifier(max_depth=5))\n",
    "])\n",
    "tree2.fit(X_train, y_train)\n",
    "y_pred_tree2 = tree2.predict(X_test)"
   ],
   "outputs": [],
   "execution_count": 217
  },
  {
   "metadata": {
    "ExecuteTime": {
     "end_time": "2024-11-16T02:46:24.888002Z",
     "start_time": "2024-11-16T02:46:24.817850Z"
    }
   },
   "cell_type": "code",
   "source": [
    "# Binarize the target variable for one-vs-rest evaluation (required for AUC calculation)\n",
    "y_test_binarized = label_binarize(y_test, classes=[0, 1, 2])\n",
    "species_names = ['Adelie', 'Chinstrap', 'Gentoo']\n",
    "\n",
    "def evaluate_classification_model(model, model_name, X_test, y_test, y_test_binarized):\n",
    "    # Predictions and probabilities\n",
    "    y_pred = model.predict(X_test)\n",
    "    y_proba = model.predict_proba(X_test)\n",
    "    \n",
    "    # Confusion Matrix\n",
    "    print(f\"\\nConfusion Matrix for {model_name}:\")\n",
    "    print(confusion_matrix(y_test, y_pred))\n",
    "    \n",
    "    # Overall Accuracy\n",
    "    accuracy = accuracy_score(y_test, y_pred)\n",
    "    print(f\"Overall Accuracy for {model_name}: {accuracy:.2f}\")\n",
    "    \n",
    "    # Precision, Recall, F1-Score, and AUC (One-vs-All for each species)\n",
    "    for idx, species in enumerate(species_names):\n",
    "        print(f\"\\nMetrics for {species} (One-vs-Rest using {model_name}):\")\n",
    "        \n",
    "        # Precision, Recall, F1-Score (one-vs-all evaluation)\n",
    "        precision = precision_score(y_test, y_pred, labels=[idx], average='weighted', zero_division=0)\n",
    "        recall = recall_score(y_test, y_pred, labels=[idx], average='weighted', zero_division=0)\n",
    "        f1 = f1_score(y_test, y_pred, labels=[idx], average='weighted', zero_division=0)\n",
    "        \n",
    "        print(f\"Precision: {precision:.2f}\")\n",
    "        print(f\"Recall: {recall:.2f}\")\n",
    "        print(f\"F1-score: {f1:.2f}\")\n",
    "        \n",
    "        # AUC Score\n",
    "        if y_proba is not None:\n",
    "            fpr, tpr, _ = roc_curve(y_test_binarized[:, idx], y_proba[:, idx])\n",
    "            roc_auc = auc(fpr, tpr)\n",
    "            print(f\"AUC: {roc_auc:.2f}\")\n",
    "\n",
    "# Evaluate models\n",
    "evaluate_classification_model(knn1, \"kNN (k=3)\", X_test, y_test, y_test_binarized)\n",
    "evaluate_classification_model(knn2, \"kNN (k=5)\", X_test, y_test, y_test_binarized)\n",
    "evaluate_classification_model(tree1, \"Decision Tree (max_depth=3)\", X_test, y_test, y_test_binarized)\n",
    "evaluate_classification_model(tree2, \"Decision Tree (max_depth=5)\", X_test, y_test, y_test_binarized)"
   ],
   "outputs": [
    {
     "name": "stdout",
     "output_type": "stream",
     "text": [
      "\n",
      "Confusion Matrix for kNN (k=3):\n",
      "[[43  1  0]\n",
      " [ 0 20  0]\n",
      " [ 0  0 36]]\n",
      "Overall Accuracy for kNN (k=3): 0.99\n",
      "\n",
      "Metrics for Adelie (One-vs-Rest using kNN (k=3)):\n",
      "Precision: 1.00\n",
      "Recall: 0.98\n",
      "F1-score: 0.99\n",
      "AUC: 1.00\n",
      "\n",
      "Metrics for Chinstrap (One-vs-Rest using kNN (k=3)):\n",
      "Precision: 0.95\n",
      "Recall: 1.00\n",
      "F1-score: 0.98\n",
      "AUC: 1.00\n",
      "\n",
      "Metrics for Gentoo (One-vs-Rest using kNN (k=3)):\n",
      "Precision: 1.00\n",
      "Recall: 1.00\n",
      "F1-score: 1.00\n",
      "AUC: 1.00\n",
      "\n",
      "Confusion Matrix for kNN (k=5):\n",
      "[[43  1  0]\n",
      " [ 0 20  0]\n",
      " [ 0  0 36]]\n",
      "Overall Accuracy for kNN (k=5): 0.99\n",
      "\n",
      "Metrics for Adelie (One-vs-Rest using kNN (k=5)):\n",
      "Precision: 1.00\n",
      "Recall: 0.98\n",
      "F1-score: 0.99\n",
      "AUC: 1.00\n",
      "\n",
      "Metrics for Chinstrap (One-vs-Rest using kNN (k=5)):\n",
      "Precision: 0.95\n",
      "Recall: 1.00\n",
      "F1-score: 0.98\n",
      "AUC: 1.00\n",
      "\n",
      "Metrics for Gentoo (One-vs-Rest using kNN (k=5)):\n",
      "Precision: 1.00\n",
      "Recall: 1.00\n",
      "F1-score: 1.00\n",
      "AUC: 1.00\n",
      "\n",
      "Confusion Matrix for Decision Tree (max_depth=3):\n",
      "[[41  2  1]\n",
      " [ 1 19  0]\n",
      " [ 0  1 35]]\n",
      "Overall Accuracy for Decision Tree (max_depth=3): 0.95\n",
      "\n",
      "Metrics for Adelie (One-vs-Rest using Decision Tree (max_depth=3)):\n",
      "Precision: 0.98\n",
      "Recall: 0.93\n",
      "F1-score: 0.95\n",
      "AUC: 0.96\n",
      "\n",
      "Metrics for Chinstrap (One-vs-Rest using Decision Tree (max_depth=3)):\n",
      "Precision: 0.86\n",
      "Recall: 0.95\n",
      "F1-score: 0.90\n",
      "AUC: 0.96\n",
      "\n",
      "Metrics for Gentoo (One-vs-Rest using Decision Tree (max_depth=3)):\n",
      "Precision: 0.97\n",
      "Recall: 0.97\n",
      "F1-score: 0.97\n",
      "AUC: 0.98\n",
      "\n",
      "Confusion Matrix for Decision Tree (max_depth=5):\n",
      "[[43  1  0]\n",
      " [ 2 18  0]\n",
      " [ 1  0 35]]\n",
      "Overall Accuracy for Decision Tree (max_depth=5): 0.96\n",
      "\n",
      "Metrics for Adelie (One-vs-Rest using Decision Tree (max_depth=5)):\n",
      "Precision: 0.93\n",
      "Recall: 0.98\n",
      "F1-score: 0.96\n",
      "AUC: 0.96\n",
      "\n",
      "Metrics for Chinstrap (One-vs-Rest using Decision Tree (max_depth=5)):\n",
      "Precision: 0.95\n",
      "Recall: 0.90\n",
      "F1-score: 0.92\n",
      "AUC: 0.94\n",
      "\n",
      "Metrics for Gentoo (One-vs-Rest using Decision Tree (max_depth=5)):\n",
      "Precision: 1.00\n",
      "Recall: 0.97\n",
      "F1-score: 0.99\n",
      "AUC: 0.99\n"
     ]
    }
   ],
   "execution_count": 218
  },
  {
   "metadata": {},
   "cell_type": "markdown",
   "source": " The k-Nearest Neighbors (kNN) models, with k=3 and k=5, demonstrated near-perfect classification performance, achieving an overall accuracy of 0.99. Both models showed excellent Precision, Recall, and F1-scores across all species, with an AUC of 1.00 for each class, indicating flawless discrimination between positive and negative cases for Adelie, Chinstrap, and Gentoo. Similarly, the Decision Tree models, using depths of 3 and 5, achieved strong performance, with overall accuracies of 0.95 and 0.96, respectively. However, these models exhibited slightly more misclassifications compared to kNN, particularly for the Adelie and Chinstrap classes. Precision for Chinstrap was notably lower for the Decision Tree models, which could be attributed to its smaller representation in the dataset. The consistently high performance across models suggests that the features effectively distinguish between the species, though the near-perfect metrics for some models raise the possibility of overfitting. To ensure the models' robustness and generalizability, further validation using cross-validation and potential hyperparameter tuning is recommended."
  },
  {
   "metadata": {
    "ExecuteTime": {
     "end_time": "2024-11-16T02:46:25.091336Z",
     "start_time": "2024-11-16T02:46:25.073424Z"
    }
   },
   "cell_type": "code",
   "source": [
    "# Compute ROC and AUC for Adelie for all models\n",
    "roc_data = []\n",
    "\n",
    "for model, model_name in [(knn1, \"kNN (k=3)\"), \n",
    "                          (knn2, \"kNN (k=5)\"), \n",
    "                          (tree1, \"Decision Tree (max_depth=3)\"), \n",
    "                          (tree2, \"Decision Tree (max_depth=5)\")]:\n",
    "    y_proba = model.predict_proba(X_test)\n",
    "    if y_proba is not None:\n",
    "        # Calculate ROC curve for Adelie at index 0\n",
    "        fpr, tpr, _ = roc_curve(y_test_binarized[:, 0], y_proba[:, 0])\n",
    "        roc_auc = auc(fpr, tpr)\n",
    "        roc_data.append(pd.DataFrame({\n",
    "            'False Positive Rate': fpr,\n",
    "            'True Positive Rate': tpr,\n",
    "            'Model': [model_name] * len(fpr),\n",
    "            'AUC': [roc_auc] * len(fpr)\n",
    "        }))\n",
    "\n",
    "# Combine all ROC data into a single DataFrame\n",
    "roc_df = pd.concat(roc_data)\n",
    "\n",
    "roc_df.head()"
   ],
   "outputs": [
    {
     "data": {
      "text/plain": [
       "   False Positive Rate  True Positive Rate      Model       AUC\n",
       "0             0.000000            0.000000  kNN (k=3)  0.999797\n",
       "1             0.000000            0.977273  kNN (k=3)  0.999797\n",
       "2             0.017857            1.000000  kNN (k=3)  0.999797\n",
       "3             1.000000            1.000000  kNN (k=3)  0.999797\n",
       "0             0.000000            0.000000  kNN (k=5)  1.000000"
      ],
      "text/html": [
       "<div>\n",
       "<style scoped>\n",
       "    .dataframe tbody tr th:only-of-type {\n",
       "        vertical-align: middle;\n",
       "    }\n",
       "\n",
       "    .dataframe tbody tr th {\n",
       "        vertical-align: top;\n",
       "    }\n",
       "\n",
       "    .dataframe thead th {\n",
       "        text-align: right;\n",
       "    }\n",
       "</style>\n",
       "<table border=\"1\" class=\"dataframe\">\n",
       "  <thead>\n",
       "    <tr style=\"text-align: right;\">\n",
       "      <th></th>\n",
       "      <th>False Positive Rate</th>\n",
       "      <th>True Positive Rate</th>\n",
       "      <th>Model</th>\n",
       "      <th>AUC</th>\n",
       "    </tr>\n",
       "  </thead>\n",
       "  <tbody>\n",
       "    <tr>\n",
       "      <th>0</th>\n",
       "      <td>0.000000</td>\n",
       "      <td>0.000000</td>\n",
       "      <td>kNN (k=3)</td>\n",
       "      <td>0.999797</td>\n",
       "    </tr>\n",
       "    <tr>\n",
       "      <th>1</th>\n",
       "      <td>0.000000</td>\n",
       "      <td>0.977273</td>\n",
       "      <td>kNN (k=3)</td>\n",
       "      <td>0.999797</td>\n",
       "    </tr>\n",
       "    <tr>\n",
       "      <th>2</th>\n",
       "      <td>0.017857</td>\n",
       "      <td>1.000000</td>\n",
       "      <td>kNN (k=3)</td>\n",
       "      <td>0.999797</td>\n",
       "    </tr>\n",
       "    <tr>\n",
       "      <th>3</th>\n",
       "      <td>1.000000</td>\n",
       "      <td>1.000000</td>\n",
       "      <td>kNN (k=3)</td>\n",
       "      <td>0.999797</td>\n",
       "    </tr>\n",
       "    <tr>\n",
       "      <th>0</th>\n",
       "      <td>0.000000</td>\n",
       "      <td>0.000000</td>\n",
       "      <td>kNN (k=5)</td>\n",
       "      <td>1.000000</td>\n",
       "    </tr>\n",
       "  </tbody>\n",
       "</table>\n",
       "</div>"
      ]
     },
     "execution_count": 219,
     "metadata": {},
     "output_type": "execute_result"
    }
   ],
   "execution_count": 219
  },
  {
   "metadata": {
    "ExecuteTime": {
     "end_time": "2024-11-16T02:46:25.461953Z",
     "start_time": "2024-11-16T02:46:25.294639Z"
    }
   },
   "cell_type": "code",
   "source": [
    "# Create ROC plot \n",
    "roc_plot = (\n",
    "    ggplot(roc_df, aes(x='False Positive Rate', y='True Positive Rate', color='Model')) +\n",
    "    geom_line(size=1.5) +\n",
    "    geom_abline(intercept=0, slope=1, linetype='dashed', color='red', size=1) +  # Random classifier line\n",
    "    labs(\n",
    "        title='ROC Curve for Adelie Classification (Multiple Models)',\n",
    "        x='False Positive Rate',\n",
    "        y='True Positive Rate',\n",
    "        color='Model'\n",
    "    ) +\n",
    "    ggtitle('ROC Curves for Adelie Classification (All Models)') +\n",
    "    theme_minimal() +\n",
    "    scale_color_manual(values=['blue', 'green', 'orange', 'purple'])  # Customize colors as desired\n",
    ")\n",
    "\n",
    "roc_plot"
   ],
   "outputs": [
    {
     "data": {
      "text/plain": [
       "<Figure size 640x480 with 1 Axes>"
      ],
      "image/png": "[encoded data removed]"
     },
     "metadata": {
      "image/png": {
       "width": 640,
       "height": 480
      },
      "needs_background": "light"
     },
     "output_type": "display_data"
    },
    {
     "data": {
      "text/plain": [
       "<Figure Size: (640 x 480)>"
      ]
     },
     "execution_count": 220,
     "metadata": {},
     "output_type": "execute_result"
    }
   ],
   "execution_count": 220
  },
  {
   "metadata": {},
   "cell_type": "markdown",
   "source": " The ROC curves for the Adelie classification, generated across multiple models (kNN and Decision Trees), illustrate near-perfect classification performance. All models achieve high true positive rates with minimal false positives, as indicated by the curves' proximity to the top-left corner of the plot. The curves' sharp rise reflects the models' ability to quickly maximize the true positive rate while maintaining a low false positive rate. The close alignment of the curves across different models suggests consistent performance, indicating that the dataset's features enable effective separation of the Adelie class. The red dashed diagonal line represents the \"random classifier\" baseline, and the distance between the models' curves and this line further emphasizes their strong discriminatory power. This performance, while impressive, may warrant further validation to ensure generalizability and rule out potential overfitting."
  },
  {
   "metadata": {},
   "cell_type": "markdown",
   "source": [
    "Sources:\n",
    "\n",
    "https://scikit-learn.org/stable/auto_examples/model_selection/plot_roc.html\n",
    "\n",
    "https://stackoverflow.com/questions/52910061/implementing-roc-curves-for-k-nn-machine-learning-algorithm-using-python-and-sci\n",
    "\n",
    "https://towardsdatascience.com/multiclass-classification-evaluation-with-roc-curves-and-roc-auc-294fd4617e3a"
   ]
  }
 ]
}
