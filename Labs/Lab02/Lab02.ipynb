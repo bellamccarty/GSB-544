{
 "cells": [
  {
   "metadata": {},
   "cell_type": "raw",
   "source": [
    "---\n",
    "title: 'Lab 2: Avocado Prices'\n",
    "author: 'Isabella McCarty'\n",
    "embed-resources: true\n",
    "format: \n",
    "    html:\n",
    "        code-fold: true\n",
    "        theme: minty\n",
    "---"
   ],
   "id": "ac731c8a9b1d3ed3"
  },
  {
   "metadata": {},
   "cell_type": "markdown",
   "source": "# Lab 2: Avocado Prices",
   "id": "2879b5496f9dff0e"
  },
  {
   "cell_type": "code",
   "execution_count": null,
   "id": "initial_id",
   "metadata": {
    "collapsed": true
   },
   "outputs": [],
   "source": [
    ""
   ]
  }
 ],
 "metadata": {
  "kernelspec": {
   "display_name": "Python 3",
   "language": "python",
   "name": "python3"
  },
  "language_info": {
   "codemirror_mode": {
    "name": "ipython",
    "version": 2
   },
   "file_extension": ".py",
   "mimetype": "text/x-python",
   "name": "python",
   "nbconvert_exporter": "python",
   "pygments_lexer": "ipython2",
   "version": "2.7.6"
  }
 },
 "nbformat": 4,
 "nbformat_minor": 5
}
