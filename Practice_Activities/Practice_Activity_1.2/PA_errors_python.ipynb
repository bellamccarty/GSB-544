{
 "cells": [
  {
   "cell_type": "raw",
   "metadata": {
    "id": "Wm7rfPnRrrqm"
   },
   "source": [
    "---\n",
    "title: 'Practice Activity: Basic Syntax'\n",
    "author: 'Isabella McCarty'\n",
    "embed-resources: true\n",
    "format: \n",
    "    html:\n",
    "        theme: minty\n",
    "---"
   ]
  },
  {
   "cell_type": "markdown",
   "metadata": {
    "id": "0mbR_4URrrqo"
   },
   "source": [
    "## Overview\n",
    "\n",
    "In this PA, you will will be creating and manipulating basic objects to uncover a top secret message.\n",
    "\n",
    "### Hint 1\n",
    "\n",
    "As you work through this PA, you will encounter some code that does not work as you want it to.  Don't despair!  Errors (when R is unable to run your code) and bugs (when the code doesn't do what you hoped) are a natural part of coding.  Even the best of the best deal with these problems regularly - learning to track down the issue is a skill that you can learn and practice.\n",
    "\n",
    "Google is your friend!  If an error is confusing, copy it into Google and see what other people are saying.  If you don't know how to do something, search for it.\n",
    "\n",
    "### Hint 2\n",
    "\n",
    "Just because there is no error message doesn't mean everything went smoothly.  You should be regularly printing out your objects, to see they contain the information and format that you expect.\n",
    "\n",
    "For example, if you have an object named `my_thing`, you might first want to simply look at the object by typing its name.\n",
    "\n",
    "However, you might also want to make sure it is the right **object type** and/or the right **object structure**.\n"
   ]
  },
  {
   "cell_type": "code",
   "metadata": {
    "id": "D5pSzgxjrrqq",
    "ExecuteTime": {
     "end_time": "2024-09-30T19:26:07.845116Z",
     "start_time": "2024-09-30T19:26:07.840790Z"
    }
   },
   "source": [
    "# type(my_thing)\n",
    "# len(my_thing)"
   ],
   "outputs": [],
   "execution_count": 14
  },
  {
   "cell_type": "markdown",
   "metadata": {
    "id": "QpUJsmq0rrqr"
   },
   "source": [
    "## Part One: Setup\n",
    "\n",
    "Each of the following code chunks will cause an error and/or do the desired task incorrectly.  Find the mistake, and correct it to complete the intended action.\n",
    "\n",
    "\n",
    "\n",
    "\n",
    "1. Create lists containing the upper case letters, lower case letters, and some punctuation marks.\n"
   ]
  },
  {
   "cell_type": "code",
   "metadata": {
    "id": "tk5bezBJrrqs",
    "outputId": "4ed6b62e-bd9b-41a0-831e-efc52b595226",
    "colab": {
     "base_uri": "https://localhost:8080/",
     "height": 143
    },
    "ExecuteTime": {
     "end_time": "2024-09-30T19:26:07.870095Z",
     "start_time": "2024-09-30T19:26:07.865648Z"
    }
   },
   "source": [
    "lower_case = [\"a\", \"b\", \"c\", \"d\", \"e\", \"f\", \"g\", \"h\", \"i\", \"j\", \"k\", \"l\", \"m\", \"n\", \"o\", \"p\", \"q\", \"r\", \"s\", \"t\", \"u\", \"v\", \"w\", \"x\", \"y\", \"z\"]\n",
    "\n",
    "upper_case = [\"A\", \"B\", \"C\", \"D\", \"E\", \"F\", \"G\", \"H\" \"I\", \"J\", \"K\", \"L\", \"M\", \"N\", \"O\", \"P\", \"Q\", \"R\", \"S\", \"T\", \"U\", \"V\", \"W\", \"X\", \"Y\", \"Z\"]\n",
    "\n",
    "punctuation = [\".\", \",\", \"!\", \"?\", \"'\", '\"', \"(\", \")\", \" \", \"-\", \";\", \":\"]"
   ],
   "outputs": [],
   "execution_count": 15
  },
  {
   "cell_type": "markdown",
   "metadata": {
    "id": "ZejwK6urrrqs"
   },
   "source": [
    "2. Make one long list containing all the symbols.  Find the length of this list.\n"
   ]
  },
  {
   "cell_type": "code",
   "metadata": {
    "id": "l8ZVLLXWrrqs",
    "ExecuteTime": {
     "end_time": "2024-09-30T19:26:07.888740Z",
     "start_time": "2024-09-30T19:26:07.884254Z"
    }
   },
   "source": [
    "all_symbols = [lower_case, upper_case, punctuation]\n",
    "\n",
    "len(all_symbols)"
   ],
   "outputs": [
    {
     "data": {
      "text/plain": [
       "3"
      ]
     },
     "execution_count": 16,
     "metadata": {},
     "output_type": "execute_result"
    }
   ],
   "execution_count": 16
  },
  {
   "cell_type": "markdown",
   "metadata": {
    "id": "HvgV76Dbrrqt"
   },
   "source": [
    "3. Repeat the previous steps, but instead of using *list* type objects, use **numpy arrays**.  Don't forget to **import** the numpy library!\n"
   ]
  },
  {
   "cell_type": "code",
   "metadata": {
    "id": "x9YyIMP6rrqt",
    "ExecuteTime": {
     "end_time": "2024-09-30T19:26:07.994640Z",
     "start_time": "2024-09-30T19:26:07.989725Z"
    }
   },
   "source": [
    "import numpy as np\n",
    "\n",
    "lower_case = np.array([\"a\", \"b\", \"c\", \"d\", \"e\", \"f\", \"g\", \"h\", \"i\", \"j\", \"k\", \"l\", \"m\", \"n\", \"o\", \"p\", \"q\", \"r\", \"s\", \"t\", \"u\", \"v\", \"w\", \"x\", \"y\", \"z\"])\n",
    "\n",
    "upper_case = np.array([\"A\", \"B\", \"C\", \"D\", \"E\", \"F\", \"G\", \"H\", \"I\", \"J\", \"K\", \"L\", \"M\", \"N\", \"O\", \"P\", \"Q\", \"R\", \"S\", \"T\", \"U\", \"V\", \"W\", \"X\", \"Y\", \"Z\"])\n",
    "\n",
    "punctuation = np.array([\".\", \",\", \"!\", \"?\", \"'\", \"\\\"\", \"(\", \")\", \" \", \"-\", \";\", \":\"])\n",
    "\n",
    "## Use np.concatenate to combine into long array\n",
    "all_symbols = np.concatenate((lower_case, upper_case, punctuation))"
   ],
   "outputs": [],
   "execution_count": 17
  },
  {
   "cell_type": "markdown",
   "metadata": {
    "id": "rpbAtPlXrrqt"
   },
   "source": [
    "4. Make a **pandas data frame**, with one column called \"Symbol\" containing the `all_symbols` array.\n"
   ]
  },
  {
   "cell_type": "code",
   "metadata": {
    "id": "K103ZvNVrrqu",
    "ExecuteTime": {
     "end_time": "2024-09-30T19:26:08.033116Z",
     "start_time": "2024-09-30T19:26:08.024372Z"
    }
   },
   "source": [
    "import pandas as pd\n",
    "\n",
    "symbols_df = pd.DataFrame(all_symbols)\n",
    "\n",
    "symbols_df.rename(columns = {0: \"Symbol\"}, inplace = True)\n",
    "symbols_df"
   ],
   "outputs": [
    {
     "data": {
      "text/plain": [
       "   Symbol\n",
       "0       a\n",
       "1       b\n",
       "2       c\n",
       "3       d\n",
       "4       e\n",
       "..    ...\n",
       "59      )\n",
       "60       \n",
       "61      -\n",
       "62      ;\n",
       "63      :\n",
       "\n",
       "[64 rows x 1 columns]"
      ],
      "text/html": [
       "<div>\n",
       "<style scoped>\n",
       "    .dataframe tbody tr th:only-of-type {\n",
       "        vertical-align: middle;\n",
       "    }\n",
       "\n",
       "    .dataframe tbody tr th {\n",
       "        vertical-align: top;\n",
       "    }\n",
       "\n",
       "    .dataframe thead th {\n",
       "        text-align: right;\n",
       "    }\n",
       "</style>\n",
       "<table border=\"1\" class=\"dataframe\">\n",
       "  <thead>\n",
       "    <tr style=\"text-align: right;\">\n",
       "      <th></th>\n",
       "      <th>Symbol</th>\n",
       "    </tr>\n",
       "  </thead>\n",
       "  <tbody>\n",
       "    <tr>\n",
       "      <th>0</th>\n",
       "      <td>a</td>\n",
       "    </tr>\n",
       "    <tr>\n",
       "      <th>1</th>\n",
       "      <td>b</td>\n",
       "    </tr>\n",
       "    <tr>\n",
       "      <th>2</th>\n",
       "      <td>c</td>\n",
       "    </tr>\n",
       "    <tr>\n",
       "      <th>3</th>\n",
       "      <td>d</td>\n",
       "    </tr>\n",
       "    <tr>\n",
       "      <th>4</th>\n",
       "      <td>e</td>\n",
       "    </tr>\n",
       "    <tr>\n",
       "      <th>...</th>\n",
       "      <td>...</td>\n",
       "    </tr>\n",
       "    <tr>\n",
       "      <th>59</th>\n",
       "      <td>)</td>\n",
       "    </tr>\n",
       "    <tr>\n",
       "      <th>60</th>\n",
       "      <td></td>\n",
       "    </tr>\n",
       "    <tr>\n",
       "      <th>61</th>\n",
       "      <td>-</td>\n",
       "    </tr>\n",
       "    <tr>\n",
       "      <th>62</th>\n",
       "      <td>;</td>\n",
       "    </tr>\n",
       "    <tr>\n",
       "      <th>63</th>\n",
       "      <td>:</td>\n",
       "    </tr>\n",
       "  </tbody>\n",
       "</table>\n",
       "<p>64 rows × 1 columns</p>\n",
       "</div>"
      ]
     },
     "execution_count": 18,
     "metadata": {},
     "output_type": "execute_result"
    }
   ],
   "execution_count": 18
  },
  {
   "cell_type": "markdown",
   "metadata": {
    "id": "L-m2LLyHrrqu"
   },
   "source": [
    "## Part Two: Decoding the secret message.\n"
   ]
  },
  {
   "cell_type": "code",
   "metadata": {
    "id": "iP7Zj5hPrrqu",
    "ExecuteTime": {
     "end_time": "2024-09-30T19:26:09.360621Z",
     "start_time": "2024-09-30T19:26:08.081338Z"
    }
   },
   "source": [
    "top_secret = pd.read_csv(\"https://www.dropbox.com/s/k72h1zewk4gtqep/PA_Secret_Code?dl=1\", header=None)\n",
    "\n",
    "top_secret = top_secret[0].to_numpy()"
   ],
   "outputs": [],
   "execution_count": 19
  },
  {
   "cell_type": "markdown",
   "metadata": {},
   "source": [
    "### Hint\n",
    "\n",
    "Recall that basic math operations are **vectorized**.  This means you don't have to repeat the process for each item in a list; you can apply the math to the whole thing at once.\n",
    "\n",
    "### Instructions\n",
    "\n",
    "By altering this top secret set of numbers, you will be able to create a message.  Write your own code to complete the steps below.\n",
    "\n",
    "1. Add 14 to every number.\n",
    "2. Multiply every number by 18, then subtract 257.\n",
    "3. Exponentiate every number.  (That is, do e^[number].  You may have to Google how to do this!)\n",
    "4. Square every number."
   ]
  },
  {
   "metadata": {
    "ExecuteTime": {
     "end_time": "2024-09-30T19:26:09.382173Z",
     "start_time": "2024-09-30T19:26:09.378660Z"
    }
   },
   "cell_type": "code",
   "source": [
    "# Add 14 to every number\n",
    "top_secret += 14\n",
    "\n",
    "# Multiply every number by 18, then subtract 257\n",
    "top_secret *= 18\n",
    "top_secret -= 257\n",
    "\n",
    "# Exponentiate every number (e^x)\n",
    "top_secret = np.exp(top_secret)\n",
    "\n",
    "# Square every number\n",
    "top_secret = np.square(top_secret)"
   ],
   "outputs": [],
   "execution_count": 20
  },
  {
   "metadata": {},
   "cell_type": "markdown",
   "source": [
    "\n",
    "**Checkpoint:** Headquarters has informed you that at this stage of decoding, there should be 352 numbers in the secret message that are below 17.  Write code to check if this is true for your data."
   ]
  },
  {
   "metadata": {
    "ExecuteTime": {
     "end_time": "2024-09-30T19:26:09.401340Z",
     "start_time": "2024-09-30T19:26:09.398195Z"
    }
   },
   "cell_type": "code",
   "source": [
    "nums_below_17 = np.sum(top_secret < 17)\n",
    "print(nums_below_17)"
   ],
   "outputs": [
    {
     "name": "stdout",
     "output_type": "stream",
     "text": [
      "352\n"
     ]
    }
   ],
   "execution_count": 21
  },
  {
   "metadata": {},
   "cell_type": "markdown",
   "source": [
    "\n",
    "\n",
    "5. Turn your one-dimensional array of numbers into a two-dimensional array (matrix) with 5 columns.\n",
    "6. Separately from your top secret numbers, create an array of all the even numbers between 1 and 382. Name it \"evens\". That is, \"evens\" should contain 2, 4, 6, 8 ..., 382.\n",
    "7. Subtract the \"evens\" vector from the first column of your secret message matrix.\n",
    "8. Subtract 100 from all numbers in the 18-24th rows of the 3rd column.\n",
    "9. Multiply all numbers in the 4th and 5th column by 2.\n",
    "10. Turn your matrix back into a one dimensional array."
   ]
  },
  {
   "metadata": {
    "ExecuteTime": {
     "end_time": "2024-09-30T19:26:09.414545Z",
     "start_time": "2024-09-30T19:26:09.411686Z"
    }
   },
   "cell_type": "code",
   "source": [
    "# Reshape the array into a matrix with 5 columns, filling by columns\n",
    "top_secret_matrix = top_secret.reshape(-1, 5, order='F')\n",
    "\n",
    "# Create an array of even numbers between 1 and 382\n",
    "evens = np.arange(2, 383, 2)\n",
    "\n",
    "# Subtract the \"evens\" vector from the first column\n",
    "top_secret_matrix[:, 0] -= evens\n",
    "\n",
    "# Subtract 100 from all numbers in the 18-24th rows of the 3rd column\n",
    "top_secret_matrix[17:24, 2] -= 100  # Subtract 100 (indexing starts at 0)\n",
    "\n",
    "# Multiply all numbers in the 4th and 5th columns by 2\n",
    "top_secret_matrix[:, 3:5] *= 2  # Multiply the 4th and 5th columns by 2\n",
    "\n",
    "# Turn the matrix back into a one-dimensional array, keeping Fortran order\n",
    "top_secret = top_secret_matrix.flatten(order='F')"
   ],
   "outputs": [],
   "execution_count": 22
  },
  {
   "metadata": {},
   "cell_type": "markdown",
   "source": "**Checkpoint:** Headquarters has informed you that at this stage of decoding, all numbers in indices 500 and beyond are below 100.  Write code to check if your numbers fulfill this requirement."
  },
  {
   "metadata": {
    "ExecuteTime": {
     "end_time": "2024-09-30T19:26:09.445850Z",
     "start_time": "2024-09-30T19:26:09.441876Z"
    }
   },
   "cell_type": "code",
   "source": [
    "above_100_count = np.sum(top_secret[500:] > 99)\n",
    "print(above_100_count)"
   ],
   "outputs": [
    {
     "name": "stdout",
     "output_type": "stream",
     "text": [
      "0\n"
     ]
    }
   ],
   "execution_count": 23
  },
  {
   "metadata": {},
   "cell_type": "markdown",
   "source": [
    "\n",
    "\n",
    "11. Take the square root of all numbers in indices 37 to 464.\n",
    "12. Round all numbers to the nearest whole number.\n",
    "13. Replace all instances of the number 39 with 20."
   ]
  },
  {
   "metadata": {
    "ExecuteTime": {
     "end_time": "2024-09-30T19:26:09.475087Z",
     "start_time": "2024-09-30T19:26:09.472138Z"
    }
   },
   "cell_type": "code",
   "source": [
    "# Take the square root of all numbers in indices 37 to 464\n",
    "top_secret[37:465] = np.sqrt((top_secret[37:465]))\n",
    "\n",
    "# Round all numbers to the nearest whole number\n",
    "top_secret = np.round(top_secret)\n",
    "\n",
    "# Step 11: Replace all instances of the number 39 with 20\n",
    "top_secret[top_secret == 39] = 20"
   ],
   "outputs": [],
   "execution_count": 24
  },
  {
   "metadata": {},
   "cell_type": "markdown",
   "source": [
    "\n",
    "**Checkpoint:** Headquarters has informed you that your final message should have 344 even numbers.  Write code to check if your numbers fulfill this requirement."
   ]
  },
  {
   "metadata": {
    "ExecuteTime": {
     "end_time": "2024-09-30T19:26:09.495641Z",
     "start_time": "2024-09-30T19:26:09.492247Z"
    }
   },
   "cell_type": "code",
   "source": [
    "even_count = np.sum(top_secret % 2 == 0)\n",
    "print(f\"Even numbers: {even_count}\")  # Should output 344"
   ],
   "outputs": [
    {
     "name": "stdout",
     "output_type": "stream",
     "text": [
      "Even numbers: 344\n"
     ]
    }
   ],
   "execution_count": 25
  },
  {
   "metadata": {
    "id": "T3ui38Z9rrqu"
   },
   "cell_type": "markdown",
   "source": [
    "\n",
    "## Part 3: The secret message!\n",
    "\n",
    "Run the following to discover the final message!  Google the first line of this message, if you do not recognize it, to see what it is.\n"
   ]
  },
  {
   "metadata": {
    "id": "v_bB8VNvrrqu",
    "ExecuteTime": {
     "end_time": "2024-09-30T19:26:09.516177Z",
     "start_time": "2024-09-30T19:26:09.511658Z"
    }
   },
   "cell_type": "code",
   "source": "''.join(map(str, symbols_df.loc[top_secret - 1]['Symbol']))",
   "outputs": [
    {
     "data": {
      "text/plain": [
       "'\\'Twas brillig, and the slithy toves   Did gyre and gimble in the wabe: All mimsy were the borogoves,   And the mome raths outgrabe. \"Beware the Jabberwock, my son!   The jaws that bite, the claws that catch! Beware the Jubjub bird, and shun   The frumious Bandersnatch!\" He took his vorpal sword in hand;   Long time the manxome foe he sought- So rested he by the Tumtum tree   And stood awhile in thought. And, as in uffish thought he stood,   The Jabberwock, with eyes of flame, Came whiffling through the tulgey wood,   And burbled as it came! One, two! One, two! And through and through   The vorpal blade went snicker-snack! He left it dead, and with its head   He went galumphing back. \"And hast thou slain the Jabberwock?   Come to my arms, my beamish boy! O frabjous day! Callooh! Callay!\"   He chortled in his joy. \\'Twas brillig, and the slithy toves   Did gyre and gimble in the wabe: All mimsy were the borogoves,   And the mome raths outgrabe.'"
      ]
     },
     "execution_count": 26,
     "metadata": {},
     "output_type": "execute_result"
    }
   ],
   "execution_count": 26
  }
 ],
 "metadata": {
  "kernelspec": {
   "name": "python3",
   "language": "python",
   "display_name": "Python 3 (ipykernel)"
  },
  "colab": {
   "provenance": []
  }
 },
 "nbformat": 4,
 "nbformat_minor": 0
}
